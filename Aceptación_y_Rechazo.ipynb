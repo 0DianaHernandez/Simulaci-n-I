{
  "nbformat": 4,
  "nbformat_minor": 0,
  "metadata": {
    "colab": {
      "provenance": [],
      "authorship_tag": "ABX9TyNp09DsBLggzx0XqqUkt2jF",
      "include_colab_link": true
    },
    "kernelspec": {
      "name": "python3",
      "display_name": "Python 3"
    },
    "language_info": {
      "name": "python"
    }
  },
  "cells": [
    {
      "cell_type": "markdown",
      "metadata": {
        "id": "view-in-github",
        "colab_type": "text"
      },
      "source": [
        "<a href=\"https://colab.research.google.com/github/0DianaHernandez/Simulacion-I/blob/main/Aceptaci%C3%B3n_y_Rechazo.ipynb\" target=\"_parent\"><img src=\"https://colab.research.google.com/assets/colab-badge.svg\" alt=\"Open In Colab\"/></a>"
      ]
    },
    {
      "cell_type": "markdown",
      "source": [
        "**Método de aceptación y Rechazo**\n",
        "\n",
        "Este método consiste primeramente en generar  un valor de la variable aleatoria y en seguida probar que dicho valor simulado proviene de la distribución de probabilidad que se está analizando.\n",
        "\n",
        "Para este caso, consideraremos una distribución de probabilidad $f(x)$ acotada y con rango finito $(a≤x≤b)$"
      ],
      "metadata": {
        "id": "cK_Aj4RapN7p"
      }
    },
    {
      "cell_type": "markdown",
      "source": [
        "*procedimiento*\n",
        "\n",
        "Supongamos que $f$ es la densidad objetivo y $g$ es una densidad auxiliar (fácil de simular y similar a $f$), de forma que existe una constante $c>0$\n",
        "tal que $f(x)≤c⋅g(x), ∀x∈R$\n",
        "Recordando que el soporte de $g$ debe contener el de $f$.\n",
        "\n",
        "1. Generar $U\\sim U(0,1)$.\n",
        "2. Generar $Y\\sim g$.\n",
        "3. Si $U≤F(Y)/c*g(Y)$\n",
        "   devolver $X=Y$\n",
        "   en caso contrario volver al paso 1.\n",
        "\n"
      ],
      "metadata": {
        "id": "C2onjm5Eva2X"
      }
    }
  ]
}