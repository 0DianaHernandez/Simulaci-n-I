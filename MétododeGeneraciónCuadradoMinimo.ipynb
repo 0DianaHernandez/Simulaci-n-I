{
  "nbformat": 4,
  "nbformat_minor": 0,
  "metadata": {
    "colab": {
      "provenance": [],
      "authorship_tag": "ABX9TyMJec5dScMnQPQ579PmpRqH",
      "include_colab_link": true
    },
    "kernelspec": {
      "name": "python3",
      "display_name": "Python 3"
    },
    "language_info": {
      "name": "python"
    }
  },
  "cells": [
    {
      "cell_type": "markdown",
      "metadata": {
        "id": "view-in-github",
        "colab_type": "text"
      },
      "source": [
        "<a href=\"https://colab.research.google.com/github/0DianaHernandez/Simulacion-I/blob/main/M%C3%A9tododeGeneraci%C3%B3nCuadradoMinimo.ipynb\" target=\"_parent\"><img src=\"https://colab.research.google.com/assets/colab-badge.svg\" alt=\"Open In Colab\"/></a>"
      ]
    },
    {
      "cell_type": "markdown",
      "source": [
        "**Método del cuadrado medio**\n",
        "\n",
        "Este algoritmo no congruencial fue propuesto en la década de los cuarenta del siglo xx por Von Neumann y Metrópolis.\n",
        "\n",
        "Requiere un número entero detonador llamado **semilla** con *p* dígitos\n",
        "**PasosS**\n",
        "1.  La semilla es elevada al cuadrado para seleccionar del resultado los *p* dígitos del centro\n",
        "2.  El primer número xi se determina simplemente anteponiendo el\"0\" a esos dígitos si *p* es impar.\n",
        "3. Para obtener el segundo xi se sigue el mismo procedimiento, sólo que ahora se elevan al cuadrado los *p* dígitos del centro que se seleccionaron para obtener el primer xi.\n",
        "\n",
        "Este método se repite hasta obtener N números xi."
      ],
      "metadata": {
        "id": "2GBnN253Jnkz"
      }
    },
    {
      "cell_type": "markdown",
      "source": [
        "Generar un número aleatorio con el método del cuadrado medio\n"
      ],
      "metadata": {
        "id": "FSciUcl9JpRs"
      }
    },
    {
      "cell_type": "code",
      "source": [
        "'''Bosquejo para p=4'''\n",
        "\n",
        "#1.- Número de 4 digitos\n",
        "#2.- Elevar al cuadrado\n",
        "#3.- Tomar el cuadrado medio\n",
        "\n",
        "import math # La importamos para poder usar la funcioon log10\n",
        "\n",
        "x_0=3656 #Introducimos manualmente la semilla para el caso donde no contiene ceros\n",
        "cuadrado=x_0**2 #Definimos el paso 2\n",
        "\n",
        "print(\"El cuadrado de:\",x_0,\"es:\",cuadrado) #Comprobar que la operacion se realizo correctamente\n",
        "\n",
        "digitos=int(math.log10(cuadrado))+1 #Definir el numeo de digitos\n",
        "\n",
        "#Comprobamos si el número de digitos es par o impar\n",
        "\n",
        "#Caso Impar: le agregamos un cero a la izquierda para hacer el número p par\n",
        "if digitos % 2 == 1:\n",
        "    cadena=str(cuadrado)\n",
        "    numero='0'+cadena\n",
        "    print(\"El número modificado es:\",numero)\n",
        "    cuadrado_medio=numero[2:6]\n",
        "    x_0=cuadrado_medio\n",
        "    print(\"El cuadrado medio del número es:\",x_0)\n",
        "\n",
        "else :\n",
        "#Si es par no se le agregan ceros al cuadrado medio\n",
        "  if digitos % 2 ==0:\n",
        "    cadena=str(cuadrado)\n",
        "    numero=cadena\n",
        "    print(\"El número tiene digitos pares por lo tanto permanece:\",numero)\n",
        "    cuadrado_medio=numero[2:6]\n",
        "    x_0=cuadrado_medio\n",
        "    print(\"El cuadrado medio del número es:\",x_0)\n",
        "\n"
      ],
      "metadata": {
        "colab": {
          "base_uri": "https://localhost:8080/"
        },
        "id": "lznlErLGJxqj",
        "outputId": "0efe1f2c-afda-4786-ea4b-74e9c3be2777"
      },
      "execution_count": null,
      "outputs": [
        {
          "output_type": "stream",
          "name": "stdout",
          "text": [
            "El cuadrado de: 3656 es: 13366336\n",
            "El número tiede digitos pares por lo tanto permanece: 13366336\n",
            "El cuadrado medio del número es: 3663\n"
          ]
        }
      ]
    },
    {
      "cell_type": "code",
      "source": [
        "\n",
        "import math\n",
        "#Segundo Ejercicio\n",
        "x_0 = 2024\n",
        "\n",
        "for i in range(5):\n",
        "  print(\"Iteracion \",i)\n",
        "  cuadrado = x_0 ** 2\n",
        "  print(\"El cuadrado de:\", x_0, \"es:\", cuadrado)\n",
        "  digitos = int(math.log10(cuadrado)) + 1\n",
        "\n",
        "  if digitos % 2 == 1:\n",
        "        cadena = str(cuadrado)\n",
        "        numero = '0' + cadena\n",
        "        print(\"El número modificado es:\", numero)\n",
        "        cuadrado_medio = numero[2:6]\n",
        "        x_0 = int(cuadrado_medio)\n",
        "        print(\"El cuadrado medio del número es:\", x_0)\n",
        "  else:\n",
        "        if digitos % 2 == 0:\n",
        "            cadena = str(cuadrado)\n",
        "            numero = cadena\n",
        "            print(\"El número tiene digitos pares por lo tanto permanece:\", numero)\n",
        "            cuadrado_medio = numero[2:6]\n",
        "            x_0 = int(cuadrado_medio)\n",
        "            print(\"El cuadrado medio del número es:\", x_0)\n"
      ],
      "metadata": {
        "id": "Y3O_myaZ58Nr",
        "outputId": "fa4cc745-d6a3-4534-ee8a-8d3ccb861ff1",
        "colab": {
          "base_uri": "https://localhost:8080/"
        }
      },
      "execution_count": 65,
      "outputs": [
        {
          "output_type": "stream",
          "name": "stdout",
          "text": [
            "Iteracion  0\n",
            "El cuadrado de: 2024 es: 4096576\n",
            "El número modificado es: 04096576\n",
            "El cuadrado medio del número es: 965\n",
            "Iteracion  1\n",
            "El cuadrado de: 965 es: 931225\n",
            "El número tiene digitos pares por lo tanto permanece: 931225\n",
            "El cuadrado medio del número es: 1225\n",
            "Iteracion  2\n",
            "El cuadrado de: 1225 es: 1500625\n",
            "El número modificado es: 01500625\n",
            "El cuadrado medio del número es: 5006\n",
            "Iteracion  3\n",
            "El cuadrado de: 5006 es: 25060036\n",
            "El número tiene digitos pares por lo tanto permanece: 25060036\n",
            "El cuadrado medio del número es: 600\n",
            "Iteracion  4\n",
            "El cuadrado de: 600 es: 360000\n",
            "El número tiene digitos pares por lo tanto permanece: 360000\n",
            "El cuadrado medio del número es: 0\n"
          ]
        }
      ]
    },
    {
      "cell_type": "code",
      "source": [
        "import math\n",
        "from tabulate import tabulate\n",
        "\n",
        "    # Solicitar al usuario que ingrese el valor inicial x_0\n",
        "x_0 = int(input(\"Ingrese el valor inicial de x_0: \"))\n",
        "\n",
        "# Lista para almacenar los resultados de cada iteración\n",
        "resultados = []\n",
        "\n",
        "# Realizamos  iteraciones\n",
        "for i in range(10):\n",
        "        # Calculamos el cuadrado de la semilla\n",
        "        cuadrado = x_0 ** 2\n",
        "\n",
        "        # Calculamos el número de dígitos en el cuadrado\n",
        "        digitos = int(math.log10(cuadrado)) + 1\n",
        "\n",
        "        if digitos % 2 == 1:  # Si el cuadrado tiene un número impar de dígitos\n",
        "            cadena = str(cuadrado)\n",
        "            numero = '0' + cadena  # Agregamos un cero al principio\n",
        "            cuadrado_medio = int(numero[2:6])  # Tomamos los dígitos centrales\n",
        "        else:  # Si el cuadrado tiene un número par de dígitos\n",
        "            cadena = str(cuadrado)\n",
        "            numero = cadena\n",
        "            cuadrado_medio = int(numero[2:6])  # Tomamos los dígitos centrales\n",
        "\n",
        "        # Agregamos los resultados de esta iteración a la lista\n",
        "        resultados.append([i, x_0, cuadrado, cuadrado_medio])\n",
        "\n",
        "        # Actualizamos el valor de x_0 para la siguiente iteración\n",
        "        x_0 = cuadrado_medio\n",
        "\n",
        "# Encabezados de la tabla\n",
        "\n",
        "headers = [\"Iteración\", \"x_n\", \"x_n^2\", \"Cuadrado medio\"]\n",
        "# Imprimir la tabla usando la función tabulate\n",
        "tabla = tabulate(resultados, headers=headers, tablefmt=\"grid\")\n",
        "\n",
        "print(tabla)\n",
        "\n"
      ],
      "metadata": {
        "colab": {
          "base_uri": "https://localhost:8080/"
        },
        "id": "kbk3BEt8wnEk",
        "outputId": "563bee2c-c166-48ff-ad12-d1c46e163a41"
      },
      "execution_count": 75,
      "outputs": [
        {
          "output_type": "stream",
          "name": "stdout",
          "text": [
            "Ingrese el valor inicial de x_0: 2124\n",
            "+-------------+-------+----------+------------------+\n",
            "|   Iteración |   x_n |    x_n^2 |   Cuadrado medio |\n",
            "+=============+=======+==========+==================+\n",
            "|           0 |  2124 |  4511376 |             5113 |\n",
            "+-------------+-------+----------+------------------+\n",
            "|           1 |  5113 | 26142769 |             1427 |\n",
            "+-------------+-------+----------+------------------+\n",
            "|           2 |  1427 |  2036329 |              363 |\n",
            "+-------------+-------+----------+------------------+\n",
            "|           3 |   363 |   131769 |             1769 |\n",
            "+-------------+-------+----------+------------------+\n",
            "|           4 |  1769 |  3129361 |             1293 |\n",
            "+-------------+-------+----------+------------------+\n",
            "|           5 |  1293 |  1671849 |             6718 |\n",
            "+-------------+-------+----------+------------------+\n",
            "|           6 |  6718 | 45131524 |             1315 |\n",
            "+-------------+-------+----------+------------------+\n",
            "|           7 |  1315 |  1729225 |             7292 |\n",
            "+-------------+-------+----------+------------------+\n",
            "|           8 |  7292 | 53173264 |             1732 |\n",
            "+-------------+-------+----------+------------------+\n",
            "|           9 |  1732 |  2999824 |             9998 |\n",
            "+-------------+-------+----------+------------------+\n"
          ]
        }
      ]
    }
  ]
}