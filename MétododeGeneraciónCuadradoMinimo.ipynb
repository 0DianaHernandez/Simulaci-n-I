{
  "nbformat": 4,
  "nbformat_minor": 0,
  "metadata": {
    "colab": {
      "provenance": [],
      "authorship_tag": "ABX9TyNS4vPcNJTeWOzkLQ9tdqk9",
      "include_colab_link": true
    },
    "kernelspec": {
      "name": "python3",
      "display_name": "Python 3"
    },
    "language_info": {
      "name": "python"
    }
  },
  "cells": [
    {
      "cell_type": "markdown",
      "metadata": {
        "id": "view-in-github",
        "colab_type": "text"
      },
      "source": [
        "<a href=\"https://colab.research.google.com/github/0DianaHernandez/Simulacion-I/blob/main/M%C3%A9tododeGeneraci%C3%B3nCuadradoMinimo.ipynb\" target=\"_parent\"><img src=\"https://colab.research.google.com/assets/colab-badge.svg\" alt=\"Open In Colab\"/></a>"
      ]
    },
    {
      "cell_type": "markdown",
      "source": [],
      "metadata": {
        "id": "2GBnN253Jnkz"
      }
    },
    {
      "cell_type": "code",
      "execution_count": null,
      "metadata": {
        "id": "A66vulrTJjCJ"
      },
      "outputs": [],
      "source": []
    },
    {
      "cell_type": "markdown",
      "source": [
        "Generar un número aleatorio con el método del cuadrado medio\n"
      ],
      "metadata": {
        "id": "FSciUcl9JpRs"
      }
    },
    {
      "cell_type": "code",
      "source": [
        "#1.- Número de 4 digitos\n",
        "#2.- Elevar al cuadrado\n",
        "#3.- Tomar el cuadrado medio\n",
        "import math\n",
        "x_0=3656\n",
        "cuadrado=x_0**2\n",
        "print(\"El cuadrado de:\",x_0,\"es:\",cuadrado)\n",
        "digitos=int(math.log10(cuadrado))+1\n",
        "if digitos % 2 == 1:\n",
        "    cadena=str(cuadrado)\n",
        "    numero='0'+cadena\n",
        "    print(\"El número modificado es:\",numero)\n",
        "    cuadrado_medio=numero[2:6]\n",
        "    x_0=cuadrado_medio\n",
        "    print(\"El cuadrado medio del número es:\",x_0)\n",
        "\n",
        "else :\n",
        "  if digitos % 2 ==0:\n",
        "    cadena=str(cuadrado)\n",
        "    numero=cadena\n",
        "    print(\"El número tiede digitos pares por lo tanto permanece:\",numero)\n",
        "    cuadrado_medio=numero[2:6]\n",
        "    x_0=cuadrado_medio\n",
        "    print(\"El cuadrado medio del número es:\",x_0)\n",
        "\n"
      ],
      "metadata": {
        "colab": {
          "base_uri": "https://localhost:8080/"
        },
        "id": "lznlErLGJxqj",
        "outputId": "0efe1f2c-afda-4786-ea4b-74e9c3be2777"
      },
      "execution_count": 70,
      "outputs": [
        {
          "output_type": "stream",
          "name": "stdout",
          "text": [
            "El cuadrado de: 3656 es: 13366336\n",
            "El número tiede digitos pares por lo tanto permanece: 13366336\n",
            "El cuadrado medio del número es: 3663\n"
          ]
        }
      ]
    }
  ]
}