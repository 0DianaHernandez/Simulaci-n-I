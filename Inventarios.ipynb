{
  "nbformat": 4,
  "nbformat_minor": 0,
  "metadata": {
    "colab": {
      "provenance": [],
      "authorship_tag": "ABX9TyPmJRreh4CC9gxuuE7EBXRe",
      "include_colab_link": true
    },
    "kernelspec": {
      "name": "python3",
      "display_name": "Python 3"
    },
    "language_info": {
      "name": "python"
    }
  },
  "cells": [
    {
      "cell_type": "markdown",
      "metadata": {
        "id": "view-in-github",
        "colab_type": "text"
      },
      "source": [
        "<a href=\"https://colab.research.google.com/github/0DianaHernandez/Simulacion-I/blob/main/Inventarios.ipynb\" target=\"_parent\"><img src=\"https://colab.research.google.com/assets/colab-badge.svg\" alt=\"Open In Colab\"/></a>"
      ]
    },
    {
      "cell_type": "markdown",
      "source": [
        "**Aplicaciones de simulación**\n",
        "\n",
        "*Simulacion sistema de inventarios*\n",
        "\n",
        "**Consideraciones:**\n",
        "El sistema de inventarios que se analiza es *lote constante y tiempo entre pedidos variables*. Las variables de decisión para este modelo son la cantidad a ordenar $q$ y el nivel de reorden $R$, las cuales minimizan los costos totales del inventario (costo de ordenar, costo de llevar inventario y costo de faltante).\n",
        "\n",
        "**Problema:** Si el inventario inicial se asume en 150 unidades, determine la cantidad óptima a ordenar $(q)$ y el nivel óptimo de reorden $(R)$\n",
        "\n",
        "\n"
      ],
      "metadata": {
        "id": "ON4pszZJiWnC"
      }
    },
    {
      "cell_type": "code",
      "source": [
        "import numpy as np\n",
        "\n",
        "# Datos de entrada\n",
        "demand = np.array([35, 36, 37, 38, 39, 40, 41, 42, 43, 44, 45, 46, 47, 48, 49, 50, 51, 52, 53, 54, 55, 56, 57, 58, 59, 60])\n",
        "prob_demand = np.array([0.010, 0.015, 0.020, 0.020, 0.022, 0.023, 0.025, 0.027, 0.028, 0.029, 0.035, 0.045, 0.060, 0.065, 0.070, 0.080, 0.075, 0.070, 0.065, 0.060, 0.050, 0.040, 0.030, 0.016, 0.015, 0.005])\n",
        "lead_time = np.array([1, 2, 3])\n",
        "prob_lead_time = np.array([0.30, 0.40, 0.30])\n",
        "seasonal_factors = np.array([1.20, 1.00, 0.90, 0.80, 0.80, 0.70, 0.80, 0.90, 1.00, 1.20, 1.30, 1.40])\n",
        "cost_order = 100\n",
        "cost_inventory = 20\n",
        "cost_shortage = 50\n",
        "\n",
        "# Parámetros de simulación\n",
        "initial_inventory = 150\n",
        "n_months = 120  # Simular 10 años\n",
        "q_values = range(50, 251, 10)\n",
        "r_values = range(50, 251, 10)\n",
        "\n",
        "def simulate_inventory(q, R, n_months, initial_inventory):\n",
        "    inventory = initial_inventory\n",
        "    total_cost = 0\n",
        "    demand_history = np.random.choice(demand, n_months, p=prob_demand)\n",
        "    lead_time_history = np.random.choice(lead_time, n_months, p=prob_lead_time)\n",
        "\n",
        "    for month in range(n_months):\n",
        "        seasonal_demand = demand_history[month] * seasonal_factors[month % 12]\n",
        "        if inventory < R:\n",
        "            order_quantity = q\n",
        "            delivery_month = month + lead_time_history[month]\n",
        "            if delivery_month < n_months:\n",
        "                inventory += order_quantity\n",
        "            total_cost += cost_order\n",
        "\n",
        "        if inventory >= seasonal_demand:\n",
        "            inventory -= seasonal_demand\n",
        "            total_cost += inventory * (cost_inventory / 12)\n",
        "        else:\n",
        "            shortage = seasonal_demand - inventory\n",
        "            total_cost += shortage * cost_shortage\n",
        "            inventory = 0\n",
        "\n",
        "    return total_cost\n",
        "\n",
        "# Búsqueda de q y R óptimos\n",
        "best_cost = float('inf')\n",
        "best_q = None\n",
        "best_R = None\n",
        "\n",
        "for q in q_values:\n",
        "    for R in r_values:\n",
        "        cost = simulate_inventory(q, R, n_months, initial_inventory)\n",
        "        if cost < best_cost:\n",
        "            best_cost = cost\n",
        "            best_q = q\n",
        "            best_R = R\n",
        "\n",
        "print(f\"Cantidad óptima a ordenar (q): {best_q}\")\n",
        "print(f\"Nivel óptimo de reorden (R): {best_R}\")\n",
        "print(f\"Costo total mínimo: {best_cost}\")\n"
      ],
      "metadata": {
        "colab": {
          "base_uri": "https://localhost:8080/"
        },
        "id": "wtYCYxthoqLu",
        "outputId": "9061a791-79e7-483b-b039-366cce49191d"
      },
      "execution_count": 3,
      "outputs": [
        {
          "output_type": "stream",
          "name": "stdout",
          "text": [
            "Cantidad óptima a ordenar (q): 80\n",
            "Nivel óptimo de reorden (R): 50\n",
            "Costo total mínimo: 19354.16666666667\n"
          ]
        }
      ]
    }
  ]
}