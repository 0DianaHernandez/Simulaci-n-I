{
  "nbformat": 4,
  "nbformat_minor": 0,
  "metadata": {
    "colab": {
      "provenance": [],
      "authorship_tag": "ABX9TyMvshfQCK786OehRTWvRpsz",
      "include_colab_link": true
    },
    "kernelspec": {
      "name": "python3",
      "display_name": "Python 3"
    },
    "language_info": {
      "name": "python"
    }
  },
  "cells": [
    {
      "cell_type": "markdown",
      "metadata": {
        "id": "view-in-github",
        "colab_type": "text"
      },
      "source": [
        "<a href=\"https://colab.research.google.com/github/0DianaHernandez/Simulacion-I/blob/main/Clase_19_06_2024.ipynb\" target=\"_parent\"><img src=\"https://colab.research.google.com/assets/colab-badge.svg\" alt=\"Open In Colab\"/></a>"
      ]
    },
    {
      "cell_type": "code",
      "execution_count": 2,
      "metadata": {
        "id": "m2ElJSdDvah8"
      },
      "outputs": [],
      "source": [
        "def asignar_valor(u):\n",
        "    if 0.000 <= u < 0.010:\n",
        "        x = 35\n",
        "    elif 0.010 <= u < 0.025:\n",
        "        x = 36\n",
        "    elif 0.025 <= u < 0.045:\n",
        "        x = 37\n",
        "    elif 0.045 <= u < 0.065:\n",
        "        x = 38\n",
        "    elif 0.065 <= u < 0.087:\n",
        "        x = 39\n",
        "    elif 0.087 <= u < 0.110:\n",
        "        x = 40\n",
        "    elif 0.110 <= u < 0.135:\n",
        "        x = 41\n",
        "    elif 0.135 <= u < 0.162:\n",
        "        x = 42\n",
        "    elif 0.162 <= u < 0.190:\n",
        "        x = 43\n",
        "    elif 0.190 <= u < 0.219:\n",
        "        x = 44\n",
        "    elif 0.219 <= u < 0.254:\n",
        "        x = 45\n",
        "    elif 0.254 <= u < 0.299:\n",
        "        x = 46\n",
        "    elif 0.299 <= u < 0.359:\n",
        "        x = 47\n",
        "    elif 0.359 <= u < 0.424:\n",
        "        x = 48\n",
        "    elif 0.424 <= u < 0.494:\n",
        "        x = 49\n",
        "    elif 0.494 <= u < 0.574:\n",
        "        x = 50\n",
        "    elif 0.574 <= u < 0.649:\n",
        "        x = 51\n",
        "    elif 0.649 <= u < 0.719:\n",
        "        x = 52\n",
        "    elif 0.719 <= u < 0.784:\n",
        "        x = 53\n",
        "    elif 0.784 <= u < 0.844:\n",
        "        x = 54\n",
        "    elif 0.844 <= u < 0.894:\n",
        "        x = 55\n",
        "    elif 0.894 <= u < 0.934:\n",
        "        x = 56\n",
        "    elif 0.934 <= u < 0.964:\n",
        "        x = 57\n",
        "    elif 0.964 <= u < 0.980:\n",
        "        x = 58\n",
        "    elif 0.980 <= u < 0.995:\n",
        "        x = 59\n",
        "    elif 0.995 <= u <= 1.000:\n",
        "        x = 60\n",
        "    else:\n",
        "        raise ValueError(\"u debe estar en el rango [0.000, 1.000]\")\n",
        "\n",
        "    return locals()\n"
      ]
    }
  ]
}