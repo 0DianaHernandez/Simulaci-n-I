{
  "nbformat": 4,
  "nbformat_minor": 0,
  "metadata": {
    "colab": {
      "provenance": [],
      "authorship_tag": "ABX9TyME4kE77QY4DJ8kIAWi+v7r"
    },
    "kernelspec": {
      "name": "python3",
      "display_name": "Python 3"
    },
    "language_info": {
      "name": "python"
    }
  },
  "cells": [
    {
      "cell_type": "markdown",
      "source": [
        "**Método de congruencia**\n",
        "\n",
        "\n",
        "Este algoritmo congruencial fue propuesto por D. H. Lehmer en 1951. Según Law y Kelton, no ha sido el más usado. El algoritmo congruencial lineal genera una secuencia de números enteros por medio de la siguiente ecuación recursiva:\n",
        "\n",
        "                               xi+1=(axi+c)mod(m)\n",
        "\n",
        "donde:\n",
        "* *xi* es la semilla\n",
        "* *a* es la constante multiplicativa\n",
        "* *c* es una constante aditiva\n",
        "* *m* es elmódulo.\n",
        "* Xo>0, a>0, c>0 y m>0 deben ser números enteros\n",
        "\n",
        "La operación\"mod(m)\" significa multiplicar xi por a, sumar c, y dividir el resultado entre m para obtener el residuo Xi+1. Es importante señalar que la ecuación recursiva del algoritmo congruencial lineal genera una secuencia de números enteros S = {0, 1,2, 3,..., m - 1}, y que para obtener números pseudoaleatorios en el intervalo (0,1) se requiere la siguiente ecuación:\n",
        "\n",
        "                                    U=xi/(m-1)\n",
        "\n",
        "\n"
      ],
      "metadata": {
        "id": "uTR6O_Z_MktE"
      }
    },
    {
      "cell_type": "code",
      "source": [
        "from tabulate import tabulate #Para poder graficar los datos\n",
        "#Ejemplo para introducir el tema\n",
        "\n",
        "m=16\n",
        "x_0=6\n",
        "a=5\n",
        "c=5\n",
        "\n",
        "resultados=[] #Lista donde iremos guardando los resultados de las iteraciones para imprimirlos en la tabla\n",
        "\n",
        "for i in range(m):\n",
        "  multiplicacion=a*x_0+c\n",
        "  modulo=multiplicacion%m\n",
        "  x_n=x_0/m\n",
        "  # Agregar los resultados a la lista de resultados\n",
        "  resultados.append((i,x_0, multiplicacion,modulo,x_n))\n",
        "  #Actualizar numeros\n",
        "  x_0=modulo\n",
        "\n",
        "# Encabezados de la tabla\n",
        "headers = [\"Iteración\",\"x_n\", \"a*x_n+c\", \"a*x_n+c (modulo m\", \"x_n/m\"]\n",
        "# Imprimir la tabla usando la función tabulate\n",
        "tabla = tabulate(resultados, headers=headers, tablefmt=\"grid\")\n",
        "print(tabla)\n",
        "\n",
        "\n",
        "\n",
        "\n"
      ],
      "metadata": {
        "id": "RundjakbMnN7",
        "colab": {
          "base_uri": "https://localhost:8080/"
        },
        "outputId": "b540470a-df39-47fc-ce70-1b2f96a97034"
      },
      "execution_count": 2,
      "outputs": [
        {
          "output_type": "stream",
          "name": "stdout",
          "text": [
            "+-------------+-------+-----------+---------------------+---------+\n",
            "|   Iteración |   x_n |   a*x_n+c |   a*x_n+c (modulo m |   x_n/m |\n",
            "+=============+=======+===========+=====================+=========+\n",
            "|           0 |     6 |        35 |                   3 |  0.375  |\n",
            "+-------------+-------+-----------+---------------------+---------+\n",
            "|           1 |     3 |        20 |                   4 |  0.1875 |\n",
            "+-------------+-------+-----------+---------------------+---------+\n",
            "|           2 |     4 |        25 |                   9 |  0.25   |\n",
            "+-------------+-------+-----------+---------------------+---------+\n",
            "|           3 |     9 |        50 |                   2 |  0.5625 |\n",
            "+-------------+-------+-----------+---------------------+---------+\n",
            "|           4 |     2 |        15 |                  15 |  0.125  |\n",
            "+-------------+-------+-----------+---------------------+---------+\n",
            "|           5 |    15 |        80 |                   0 |  0.9375 |\n",
            "+-------------+-------+-----------+---------------------+---------+\n",
            "|           6 |     0 |         5 |                   5 |  0      |\n",
            "+-------------+-------+-----------+---------------------+---------+\n",
            "|           7 |     5 |        30 |                  14 |  0.3125 |\n",
            "+-------------+-------+-----------+---------------------+---------+\n",
            "|           8 |    14 |        75 |                  11 |  0.875  |\n",
            "+-------------+-------+-----------+---------------------+---------+\n",
            "|           9 |    11 |        60 |                  12 |  0.6875 |\n",
            "+-------------+-------+-----------+---------------------+---------+\n",
            "|          10 |    12 |        65 |                   1 |  0.75   |\n",
            "+-------------+-------+-----------+---------------------+---------+\n",
            "|          11 |     1 |        10 |                  10 |  0.0625 |\n",
            "+-------------+-------+-----------+---------------------+---------+\n",
            "|          12 |    10 |        55 |                   7 |  0.625  |\n",
            "+-------------+-------+-----------+---------------------+---------+\n",
            "|          13 |     7 |        40 |                   8 |  0.4375 |\n",
            "+-------------+-------+-----------+---------------------+---------+\n",
            "|          14 |     8 |        45 |                  13 |  0.5    |\n",
            "+-------------+-------+-----------+---------------------+---------+\n",
            "|          15 |    13 |        70 |                   6 |  0.8125 |\n",
            "+-------------+-------+-----------+---------------------+---------+\n"
          ]
        }
      ]
    },
    {
      "cell_type": "code",
      "source": [
        "from tabulate import tabulate\n",
        "\n",
        "m=16\n",
        "x_0=6\n",
        "a=5\n",
        "c=5\n",
        "\n",
        "resultados=[]\n",
        "resultados_vistos= set()\n",
        "for i in range(m):\n",
        "  multiplicacion=a*x_0+c\n",
        "  modulo=multiplicacion%m\n",
        "  x_n=x_0/m\n",
        "  resultados.append((i,x_0, multiplicacion,modulo,x_n))\n",
        "  #Actualizar numeros\n",
        "  x_0=modulo\n",
        "# Encabezados de la tabla\n",
        "headers = [\"Iteración\",\"x_n\", \"a*x_n+c\", \"a*x_n+c (modulo m)\", \"x_n/m\"]\n",
        "# Imprimir la tabla usando la función tabulate\n",
        "tabla = tabulate(resultados, headers=headers, tablefmt=\"grid\")\n",
        "print(tabla)\n",
        "\n"
      ],
      "metadata": {
        "colab": {
          "base_uri": "https://localhost:8080/"
        },
        "id": "2WQL1ySWOlJM",
        "outputId": "47cc74b2-473a-4827-bfbf-822fddec5469"
      },
      "execution_count": 3,
      "outputs": [
        {
          "output_type": "stream",
          "name": "stdout",
          "text": [
            "+-------------+-------+-----------+----------------------+---------+\n",
            "|   Iteración |   x_n |   a*x_n+c |   a*x_n+c (modulo m) |   x_n/m |\n",
            "+=============+=======+===========+======================+=========+\n",
            "|           0 |     6 |        35 |                    3 |  0.375  |\n",
            "+-------------+-------+-----------+----------------------+---------+\n",
            "|           1 |     3 |        20 |                    4 |  0.1875 |\n",
            "+-------------+-------+-----------+----------------------+---------+\n",
            "|           2 |     4 |        25 |                    9 |  0.25   |\n",
            "+-------------+-------+-----------+----------------------+---------+\n",
            "|           3 |     9 |        50 |                    2 |  0.5625 |\n",
            "+-------------+-------+-----------+----------------------+---------+\n",
            "|           4 |     2 |        15 |                   15 |  0.125  |\n",
            "+-------------+-------+-----------+----------------------+---------+\n",
            "|           5 |    15 |        80 |                    0 |  0.9375 |\n",
            "+-------------+-------+-----------+----------------------+---------+\n",
            "|           6 |     0 |         5 |                    5 |  0      |\n",
            "+-------------+-------+-----------+----------------------+---------+\n",
            "|           7 |     5 |        30 |                   14 |  0.3125 |\n",
            "+-------------+-------+-----------+----------------------+---------+\n",
            "|           8 |    14 |        75 |                   11 |  0.875  |\n",
            "+-------------+-------+-----------+----------------------+---------+\n",
            "|           9 |    11 |        60 |                   12 |  0.6875 |\n",
            "+-------------+-------+-----------+----------------------+---------+\n",
            "|          10 |    12 |        65 |                    1 |  0.75   |\n",
            "+-------------+-------+-----------+----------------------+---------+\n",
            "|          11 |     1 |        10 |                   10 |  0.0625 |\n",
            "+-------------+-------+-----------+----------------------+---------+\n",
            "|          12 |    10 |        55 |                    7 |  0.625  |\n",
            "+-------------+-------+-----------+----------------------+---------+\n",
            "|          13 |     7 |        40 |                    8 |  0.4375 |\n",
            "+-------------+-------+-----------+----------------------+---------+\n",
            "|          14 |     8 |        45 |                   13 |  0.5    |\n",
            "+-------------+-------+-----------+----------------------+---------+\n",
            "|          15 |    13 |        70 |                    6 |  0.8125 |\n",
            "+-------------+-------+-----------+----------------------+---------+\n"
          ]
        }
      ]
    },
    {
      "cell_type": "markdown",
      "source": [
        "Ejercicio 1 clase 28/02/2024"
      ],
      "metadata": {
        "id": "mN0wFTZ2JCVC"
      }
    },
    {
      "cell_type": "code",
      "source": [
        "from tabulate import tabulate\n",
        "m=100\n",
        "x_0=27\n",
        "a=17\n",
        "c=43\n",
        "\n",
        "resultados=[]\n",
        "resultados_vistos= set()\n",
        "for i in range(m):\n",
        "  multiplicacion=a*x_0+c\n",
        "  modulo=multiplicacion%m\n",
        "  x_n=x_0/m\n",
        "  if x_0 not in resultados_vistos:\n",
        "    resultados.append((i,x_0, multiplicacion,modulo,x_n))\n",
        "    resultados_vistos.add(x_0)\n",
        "  #Actualizar numeros\n",
        "  x_0=modulo\n",
        "# Encabezados de la tabla\n",
        "headers = [\"Iteración\",\"x_n\", \"a*x_n+c\", \"a*x_n+c(modulo m)\", \"x_n/m\"]\n",
        "# Imprimir la tabla usando la función tabulate\n",
        "print(tabulate(resultados, headers=headers, tablefmt=\"grid\"))\n",
        "print(\"A partir de aquí se repiten los valores\")\n"
      ],
      "metadata": {
        "colab": {
          "base_uri": "https://localhost:8080/"
        },
        "id": "v-49G6W1XOn7",
        "outputId": "91ba4078-79cc-4732-8aea-a6befa08f25b"
      },
      "execution_count": 4,
      "outputs": [
        {
          "output_type": "stream",
          "name": "stdout",
          "text": [
            "+-------------+-------+-----------+---------------------+---------+\n",
            "|   Iteración |   x_n |   a*x_n+c |   a*x_n+c(modulo m) |   x_n/m |\n",
            "+=============+=======+===========+=====================+=========+\n",
            "|           0 |    27 |       502 |                   2 |    0.27 |\n",
            "+-------------+-------+-----------+---------------------+---------+\n",
            "|           1 |     2 |        77 |                  77 |    0.02 |\n",
            "+-------------+-------+-----------+---------------------+---------+\n",
            "|           2 |    77 |      1352 |                  52 |    0.77 |\n",
            "+-------------+-------+-----------+---------------------+---------+\n",
            "|           3 |    52 |       927 |                  27 |    0.52 |\n",
            "+-------------+-------+-----------+---------------------+---------+\n",
            "A partir de aquí se repiten los valores\n"
          ]
        }
      ]
    },
    {
      "cell_type": "markdown",
      "source": [
        "Ejercicio 2, para x_0=1"
      ],
      "metadata": {
        "id": "4tC5RkIIJPr_"
      }
    },
    {
      "cell_type": "code",
      "source": [
        "from tabulate import tabulate\n",
        "m=2**6\n",
        "x_0=1\n",
        "a=13\n",
        "c=0\n",
        "\n",
        "resultados=[]\n",
        "resultados_vistos= set()\n",
        "for i in range(m):\n",
        "  multiplicacion=a*x_0+c\n",
        "  modulo=multiplicacion%m\n",
        "  x_n=x_0/m\n",
        "  if x_0 not in resultados_vistos:\n",
        "    resultados.append((i,x_0, multiplicacion,modulo,x_n))\n",
        "    resultados_vistos.add(x_0)\n",
        "  #Actualizar numeros\n",
        "  x_0=modulo\n",
        "# Encabezados de la tabla\n",
        "headers = [\"Iteración\",\"x_n\", \"a*x_n+c\", \"a*x_n+c(modulo m)\", \"x_n/m\"]\n",
        "# Imprimir la tabla usando la función tabulate\n",
        "print(tabulate(resultados, headers=headers, tablefmt=\"grid\"))\n",
        "print(\"A partir de aquí se repiten los valores\")"
      ],
      "metadata": {
        "id": "YF0d_v69JT8Z",
        "outputId": "278daa80-9eb9-48bc-a7f4-4a1aedcc3d1e",
        "colab": {
          "base_uri": "https://localhost:8080/"
        }
      },
      "execution_count": 5,
      "outputs": [
        {
          "output_type": "stream",
          "name": "stdout",
          "text": [
            "+-------------+-------+-----------+---------------------+----------+\n",
            "|   Iteración |   x_n |   a*x_n+c |   a*x_n+c(modulo m) |    x_n/m |\n",
            "+=============+=======+===========+=====================+==========+\n",
            "|           0 |     1 |        13 |                  13 | 0.015625 |\n",
            "+-------------+-------+-----------+---------------------+----------+\n",
            "|           1 |    13 |       169 |                  41 | 0.203125 |\n",
            "+-------------+-------+-----------+---------------------+----------+\n",
            "|           2 |    41 |       533 |                  21 | 0.640625 |\n",
            "+-------------+-------+-----------+---------------------+----------+\n",
            "|           3 |    21 |       273 |                  17 | 0.328125 |\n",
            "+-------------+-------+-----------+---------------------+----------+\n",
            "|           4 |    17 |       221 |                  29 | 0.265625 |\n",
            "+-------------+-------+-----------+---------------------+----------+\n",
            "|           5 |    29 |       377 |                  57 | 0.453125 |\n",
            "+-------------+-------+-----------+---------------------+----------+\n",
            "|           6 |    57 |       741 |                  37 | 0.890625 |\n",
            "+-------------+-------+-----------+---------------------+----------+\n",
            "|           7 |    37 |       481 |                  33 | 0.578125 |\n",
            "+-------------+-------+-----------+---------------------+----------+\n",
            "|           8 |    33 |       429 |                  45 | 0.515625 |\n",
            "+-------------+-------+-----------+---------------------+----------+\n",
            "|           9 |    45 |       585 |                   9 | 0.703125 |\n",
            "+-------------+-------+-----------+---------------------+----------+\n",
            "|          10 |     9 |       117 |                  53 | 0.140625 |\n",
            "+-------------+-------+-----------+---------------------+----------+\n",
            "|          11 |    53 |       689 |                  49 | 0.828125 |\n",
            "+-------------+-------+-----------+---------------------+----------+\n",
            "|          12 |    49 |       637 |                  61 | 0.765625 |\n",
            "+-------------+-------+-----------+---------------------+----------+\n",
            "|          13 |    61 |       793 |                  25 | 0.953125 |\n",
            "+-------------+-------+-----------+---------------------+----------+\n",
            "|          14 |    25 |       325 |                   5 | 0.390625 |\n",
            "+-------------+-------+-----------+---------------------+----------+\n",
            "|          15 |     5 |        65 |                   1 | 0.078125 |\n",
            "+-------------+-------+-----------+---------------------+----------+\n",
            "A partir de aquí se repiten los valores\n"
          ]
        }
      ]
    },
    {
      "cell_type": "markdown",
      "source": [
        "Ejercicio 2, para x_0=2\n"
      ],
      "metadata": {
        "id": "llnQXVw4JicU"
      }
    },
    {
      "cell_type": "code",
      "source": [
        "from tabulate import tabulate\n",
        "m=2**6\n",
        "x_0=2\n",
        "a=13\n",
        "c=0\n",
        "\n",
        "resultados=[]\n",
        "resultados_vistos= set()\n",
        "for i in range(m):\n",
        "  multiplicacion=a*x_0+c\n",
        "  modulo=multiplicacion%m\n",
        "  x_n=x_0/m\n",
        "  if x_0 not in resultados_vistos:\n",
        "    resultados.append((i,x_0, multiplicacion,modulo,x_n))\n",
        "    resultados_vistos.add(x_0)\n",
        "  #Actualizar numeros\n",
        "  x_0=modulo\n",
        "# Encabezados de la tabla\n",
        "headers = [\"Iteración\",\"x_n\", \"a*x_n+c\", \"a*x_n+c(modulo m)\", \"x_n/m\"]\n",
        "# Imprimir la tabla usando la función tabulate\n",
        "print(tabulate(resultados, headers=headers, tablefmt=\"grid\"))\n",
        "print(\"A partir de aquí se repiten los valores\")"
      ],
      "metadata": {
        "id": "AkhmtoCMJniG",
        "outputId": "3ad36714-e333-44ef-b8e0-984f4a9075ba",
        "colab": {
          "base_uri": "https://localhost:8080/"
        }
      },
      "execution_count": 6,
      "outputs": [
        {
          "output_type": "stream",
          "name": "stdout",
          "text": [
            "+-------------+-------+-----------+---------------------+---------+\n",
            "|   Iteración |   x_n |   a*x_n+c |   a*x_n+c(modulo m) |   x_n/m |\n",
            "+=============+=======+===========+=====================+=========+\n",
            "|           0 |     2 |        26 |                  26 | 0.03125 |\n",
            "+-------------+-------+-----------+---------------------+---------+\n",
            "|           1 |    26 |       338 |                  18 | 0.40625 |\n",
            "+-------------+-------+-----------+---------------------+---------+\n",
            "|           2 |    18 |       234 |                  42 | 0.28125 |\n",
            "+-------------+-------+-----------+---------------------+---------+\n",
            "|           3 |    42 |       546 |                  34 | 0.65625 |\n",
            "+-------------+-------+-----------+---------------------+---------+\n",
            "|           4 |    34 |       442 |                  58 | 0.53125 |\n",
            "+-------------+-------+-----------+---------------------+---------+\n",
            "|           5 |    58 |       754 |                  50 | 0.90625 |\n",
            "+-------------+-------+-----------+---------------------+---------+\n",
            "|           6 |    50 |       650 |                  10 | 0.78125 |\n",
            "+-------------+-------+-----------+---------------------+---------+\n",
            "|           7 |    10 |       130 |                   2 | 0.15625 |\n",
            "+-------------+-------+-----------+---------------------+---------+\n",
            "A partir de aquí se repiten los valores\n"
          ]
        }
      ]
    },
    {
      "cell_type": "markdown",
      "source": [
        "Ejercicio 2, para x_0=3"
      ],
      "metadata": {
        "id": "pObcxUL3JoRg"
      }
    },
    {
      "cell_type": "code",
      "source": [
        "from tabulate import tabulate\n",
        "m=2**6\n",
        "x_0=3\n",
        "a=13\n",
        "c=0\n",
        "\n",
        "resultados=[]\n",
        "resultados_vistos= set()\n",
        "for i in range(m):\n",
        "  multiplicacion=a*x_0+c\n",
        "  modulo=multiplicacion%m\n",
        "  x_n=x_0/m\n",
        "  if x_0 not in resultados_vistos:\n",
        "    resultados.append((i,x_0, multiplicacion,modulo,x_n))\n",
        "    resultados_vistos.add(x_0)\n",
        "  #Actualizar numeros\n",
        "  x_0=modulo\n",
        "# Encabezados de la tabla\n",
        "headers = [\"Iteración\",\"x_n\", \"a*x_n+c\", \"a*x_n+c(modulo m)\", \"x_n/m\"]\n",
        "# Imprimir la tabla usando la función tabulate\n",
        "print(tabulate(resultados, headers=headers, tablefmt=\"grid\"))\n",
        "print(\"A partir de aquí se repiten los valores\")"
      ],
      "metadata": {
        "id": "ScxDZL2oJqQX",
        "outputId": "648adc2c-bfb4-4892-b3df-432debb2e872",
        "colab": {
          "base_uri": "https://localhost:8080/"
        }
      },
      "execution_count": 7,
      "outputs": [
        {
          "output_type": "stream",
          "name": "stdout",
          "text": [
            "+-------------+-------+-----------+---------------------+----------+\n",
            "|   Iteración |   x_n |   a*x_n+c |   a*x_n+c(modulo m) |    x_n/m |\n",
            "+=============+=======+===========+=====================+==========+\n",
            "|           0 |     3 |        39 |                  39 | 0.046875 |\n",
            "+-------------+-------+-----------+---------------------+----------+\n",
            "|           1 |    39 |       507 |                  59 | 0.609375 |\n",
            "+-------------+-------+-----------+---------------------+----------+\n",
            "|           2 |    59 |       767 |                  63 | 0.921875 |\n",
            "+-------------+-------+-----------+---------------------+----------+\n",
            "|           3 |    63 |       819 |                  51 | 0.984375 |\n",
            "+-------------+-------+-----------+---------------------+----------+\n",
            "|           4 |    51 |       663 |                  23 | 0.796875 |\n",
            "+-------------+-------+-----------+---------------------+----------+\n",
            "|           5 |    23 |       299 |                  43 | 0.359375 |\n",
            "+-------------+-------+-----------+---------------------+----------+\n",
            "|           6 |    43 |       559 |                  47 | 0.671875 |\n",
            "+-------------+-------+-----------+---------------------+----------+\n",
            "|           7 |    47 |       611 |                  35 | 0.734375 |\n",
            "+-------------+-------+-----------+---------------------+----------+\n",
            "|           8 |    35 |       455 |                   7 | 0.546875 |\n",
            "+-------------+-------+-----------+---------------------+----------+\n",
            "|           9 |     7 |        91 |                  27 | 0.109375 |\n",
            "+-------------+-------+-----------+---------------------+----------+\n",
            "|          10 |    27 |       351 |                  31 | 0.421875 |\n",
            "+-------------+-------+-----------+---------------------+----------+\n",
            "|          11 |    31 |       403 |                  19 | 0.484375 |\n",
            "+-------------+-------+-----------+---------------------+----------+\n",
            "|          12 |    19 |       247 |                  55 | 0.296875 |\n",
            "+-------------+-------+-----------+---------------------+----------+\n",
            "|          13 |    55 |       715 |                  11 | 0.859375 |\n",
            "+-------------+-------+-----------+---------------------+----------+\n",
            "|          14 |    11 |       143 |                  15 | 0.171875 |\n",
            "+-------------+-------+-----------+---------------------+----------+\n",
            "|          15 |    15 |       195 |                   3 | 0.234375 |\n",
            "+-------------+-------+-----------+---------------------+----------+\n",
            "A partir de aquí se repiten los valores\n"
          ]
        }
      ]
    },
    {
      "cell_type": "markdown",
      "source": [
        "Ejercicio 2, para x_0=4"
      ],
      "metadata": {
        "id": "_dn-XXTCJqwm"
      }
    },
    {
      "cell_type": "code",
      "source": [
        "from tabulate import tabulate\n",
        "m=2**6\n",
        "x_0=4\n",
        "a=13\n",
        "c=0\n",
        "\n",
        "resultados=[]\n",
        "resultados_vistos= set()\n",
        "for i in range(m):\n",
        "  multiplicacion=a*x_0+c\n",
        "  modulo=multiplicacion%m\n",
        "  x_n=x_0/m\n",
        "  if x_0 not in resultados_vistos:\n",
        "    resultados.append((i,x_0, multiplicacion,modulo,x_n))\n",
        "    resultados_vistos.add(x_0)\n",
        "  #Actualizar numeros\n",
        "  x_0=modulo\n",
        "# Encabezados de la tabla\n",
        "headers = [\"Iteración\",\"x_n\", \"a*x_n+c\", \"a*x_n+c(modulo m)\", \"x_n/m\"]\n",
        "# Imprimir la tabla usando la función tabulate\n",
        "print(tabulate(resultados, headers=headers, tablefmt=\"grid\"))\n",
        "print(\"A partir de aquí se repiten los valores\")"
      ],
      "metadata": {
        "id": "mi91g0GxJyVk",
        "outputId": "f026f0c7-bf70-4aef-fbde-3557738caf6f",
        "colab": {
          "base_uri": "https://localhost:8080/"
        }
      },
      "execution_count": 8,
      "outputs": [
        {
          "output_type": "stream",
          "name": "stdout",
          "text": [
            "+-------------+-------+-----------+---------------------+---------+\n",
            "|   Iteración |   x_n |   a*x_n+c |   a*x_n+c(modulo m) |   x_n/m |\n",
            "+=============+=======+===========+=====================+=========+\n",
            "|           0 |     4 |        52 |                  52 |  0.0625 |\n",
            "+-------------+-------+-----------+---------------------+---------+\n",
            "|           1 |    52 |       676 |                  36 |  0.8125 |\n",
            "+-------------+-------+-----------+---------------------+---------+\n",
            "|           2 |    36 |       468 |                  20 |  0.5625 |\n",
            "+-------------+-------+-----------+---------------------+---------+\n",
            "|           3 |    20 |       260 |                   4 |  0.3125 |\n",
            "+-------------+-------+-----------+---------------------+---------+\n",
            "A partir de aquí se repiten los valores\n"
          ]
        }
      ]
    }
  ]
}