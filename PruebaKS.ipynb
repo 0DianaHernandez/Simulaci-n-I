{
  "nbformat": 4,
  "nbformat_minor": 0,
  "metadata": {
    "colab": {
      "provenance": [],
      "authorship_tag": "ABX9TyMvWeQESPz9FRRQxPwBJolg",
      "include_colab_link": true
    },
    "kernelspec": {
      "name": "python3",
      "display_name": "Python 3"
    },
    "language_info": {
      "name": "python"
    }
  },
  "cells": [
    {
      "cell_type": "markdown",
      "metadata": {
        "id": "view-in-github",
        "colab_type": "text"
      },
      "source": [
        "<a href=\"https://colab.research.google.com/github/0DianaHernandez/Simulacion-I/blob/main/PruebaKS.ipynb\" target=\"_parent\"><img src=\"https://colab.research.google.com/assets/colab-badge.svg\" alt=\"Open In Colab\"/></a>"
      ]
    },
    {
      "cell_type": "code",
      "execution_count": null,
      "metadata": {
        "colab": {
          "base_uri": "https://localhost:8080/"
        },
        "id": "8sZQx6M8CNXK",
        "outputId": "2f65f9fe-1a3e-4479-fd58-569689851c4f"
      },
      "outputs": [
        {
          "output_type": "stream",
          "name": "stdout",
          "text": [
            "[0.0318, 0.0856, 0.0954, 0.1492, 0.1525, 0.1592, 0.2006, 0.2088, 0.2204, 0.2258, 0.2415, 0.3188, 0.3254, 0.341, 0.3469, 0.3681, 0.3808, 0.3884, 0.4272, 0.4557, 0.4603, 0.472, 0.5027, 0.5291, 0.5461, 0.5613, 0.5739, 0.5844, 0.5991, 0.5992, 0.5999, 0.6235, 0.6289, 0.636, 0.6431, 0.7387, 0.7401, 0.7977, 0.8147, 0.8376, 0.8536, 0.8589, 0.8681, 0.875, 0.8797, 0.8846, 0.917, 0.9606, 0.9848, 0.9996]\n"
          ]
        }
      ],
      "source": [
        "lista = [0.8797, 0.3884, 0.6289, 0.875, 0.5999, 0.8589, 0.9996, 0.2415, 0.3808, 0.9606, 0.9848, 0.3469, 0.7977, 0.5844, 0.8147, 0.6431, 0.7387, 0.5613, 0.0318, 0.7401, 0.4557, 0.1592, 0.8536, 0.8846, 0.341, 0.1492, 0.8681, 0.5291, 0.3188, 0.5992, 0.917, 0.2204, 0.5991, 0.5461, 0.5739, 0.3254, 0.0856, 0.2258, 0.4603, 0.5027, 0.8376, 0.6235, 0.3681, 0.2088, 0.1525, 0.2006, 0.472, 0.4272, 0.636, 0.0954]\n",
        "\n",
        "lista.sort()\n",
        "#calcular el estadistico de prueba\n",
        "for - in range (n):\n",
        "  D_izq= abs((i/n)-x_i)\n",
        "  D\n"
      ]
    }
  ]
}