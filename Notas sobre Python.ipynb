{
  "cells": [
    {
      "cell_type": "markdown",
      "metadata": {
        "id": "9_DVVKOT6_Xa"
      },
      "source": [
        "## Listas"
      ]
    },
    {
      "cell_type": "markdown",
      "metadata": {
        "id": "m2dZd7WY6_Xd"
      },
      "source": [
        "Una **lista** es una colección ordenada de objetos, que pueden ser de distintos tipos. Las listas son mutables y se pueden realizar varias operaciones con ellas mediante funciones de Python."
      ]
    },
    {
      "cell_type": "markdown",
      "metadata": {
        "id": "-IPlbYbZ6_Xd"
      },
      "source": [
        "Se pueden definir mediante corchetes [ ], entre los cuales se escriben los objetos separados por comas. Así, son listas:"
      ]
    },
    {
      "cell_type": "code",
      "execution_count": 1,
      "metadata": {
        "id": "l-j2t_n46_Xe"
      },
      "outputs": [],
      "source": [
        "l = []\n",
        "\n",
        "m = [1,2,2]\n",
        "\n",
        "lista = [1,2,3,4,5, 'a', 'b', 'c', [1,2], [3, 'c']]"
      ]
    },
    {
      "cell_type": "code",
      "execution_count": 2,
      "metadata": {
        "id": "Zv-gGbir6_Xf",
        "outputId": "b7c86ec9-a160-42be-9fc4-ec2be2a03519",
        "colab": {
          "base_uri": "https://localhost:8080/"
        }
      },
      "outputs": [
        {
          "output_type": "execute_result",
          "data": {
            "text/plain": [
              "list"
            ]
          },
          "metadata": {},
          "execution_count": 2
        }
      ],
      "source": [
        "type(l)  # La función type() devuelve el tipo de objeto que es el argumento"
      ]
    },
    {
      "cell_type": "code",
      "execution_count": 3,
      "metadata": {
        "id": "k3uwRHtr6_Xf",
        "outputId": "feaba550-57e9-49d1-b2e4-d54136d260b3",
        "colab": {
          "base_uri": "https://localhost:8080/"
        }
      },
      "outputs": [
        {
          "output_type": "execute_result",
          "data": {
            "text/plain": [
              "list"
            ]
          },
          "metadata": {},
          "execution_count": 3
        }
      ],
      "source": [
        "type(m)"
      ]
    },
    {
      "cell_type": "markdown",
      "metadata": {
        "id": "TOQ_bFL16_Xf"
      },
      "source": [
        "Las listas son iterables: podemos recorrer sus elementos mediante un bucle:"
      ]
    },
    {
      "cell_type": "code",
      "execution_count": 4,
      "metadata": {
        "id": "rNBY0ipA6_Xf",
        "outputId": "c7bd0908-dc40-45a8-b19c-f1da674a7cc9",
        "colab": {
          "base_uri": "https://localhost:8080/"
        }
      },
      "outputs": [
        {
          "output_type": "stream",
          "name": "stdout",
          "text": [
            "1\n",
            "2\n",
            "3\n",
            "4\n",
            "5\n",
            "a\n",
            "b\n",
            "c\n",
            "[1, 2]\n",
            "[3, 'c']\n"
          ]
        }
      ],
      "source": [
        "for i in lista:\n",
        "    print(i)"
      ]
    },
    {
      "cell_type": "markdown",
      "metadata": {
        "id": "n7fWoRQj6_Xg"
      },
      "source": [
        "Se puede acceder a cada elemento de la lista indicando su posición en ella:"
      ]
    },
    {
      "cell_type": "code",
      "execution_count": 5,
      "metadata": {
        "id": "blYrZijT6_Xg",
        "outputId": "7c3f65c5-9d06-49b8-96b9-3413745a440a",
        "colab": {
          "base_uri": "https://localhost:8080/"
        }
      },
      "outputs": [
        {
          "output_type": "execute_result",
          "data": {
            "text/plain": [
              "1"
            ]
          },
          "metadata": {},
          "execution_count": 5
        }
      ],
      "source": [
        "lista[0]"
      ]
    },
    {
      "cell_type": "markdown",
      "metadata": {
        "id": "inSlStXd6_Xg"
      },
      "source": [
        "Y se puede reemplazar alguno de sus elementos indicando el nuevo valor:"
      ]
    },
    {
      "cell_type": "code",
      "execution_count": 6,
      "metadata": {
        "id": "XO_fPACn6_Xg"
      },
      "outputs": [],
      "source": [
        "lista[0] = 100"
      ]
    },
    {
      "cell_type": "code",
      "execution_count": 7,
      "metadata": {
        "id": "6T98gHWX6_Xg",
        "outputId": "e954fbd1-488a-4c2c-dddc-946d6c49efd3",
        "colab": {
          "base_uri": "https://localhost:8080/"
        }
      },
      "outputs": [
        {
          "output_type": "stream",
          "name": "stdout",
          "text": [
            "[100, 2, 3, 4, 5, 'a', 'b', 'c', [1, 2], [3, 'c']]\n"
          ]
        }
      ],
      "source": [
        "print(lista)"
      ]
    },
    {
      "cell_type": "markdown",
      "metadata": {
        "id": "iapNDMcq6_Xg"
      },
      "source": [
        "### Ejercicio:\n",
        "\n",
        "¿Cómo accedemos al elemento 'c' de la lista [3, 'c'] dentro de lista?"
      ]
    },
    {
      "cell_type": "markdown",
      "source": [
        "**Solución:** Observamos que el elemento [3,'c'] dentro de la lista está en la posición 9 y como queremos acceder a 'c' esté está en la posición 1 de la sublista [3,'c']\n"
      ],
      "metadata": {
        "id": "d1Bgq8259zTt"
      }
    },
    {
      "cell_type": "code",
      "source": [
        "lista[9][1]"
      ],
      "metadata": {
        "id": "HNyCGkFi7nTN",
        "outputId": "9b3e9ad5-c145-4a7a-84c0-5594d383b797",
        "colab": {
          "base_uri": "https://localhost:8080/",
          "height": 35
        }
      },
      "execution_count": 39,
      "outputs": [
        {
          "output_type": "execute_result",
          "data": {
            "text/plain": [
              "'c'"
            ],
            "application/vnd.google.colaboratory.intrinsic+json": {
              "type": "string"
            }
          },
          "metadata": {},
          "execution_count": 39
        }
      ]
    },
    {
      "cell_type": "markdown",
      "metadata": {
        "id": "DQkQMwlr6_Xh"
      },
      "source": [
        "Con el operador **in** podemos comprobar si un determinado **valor** está en la lista: dará True si está y False si no está."
      ]
    },
    {
      "cell_type": "code",
      "execution_count": 18,
      "metadata": {
        "id": "7h_QsMeM6_Xh",
        "outputId": "f48fc238-1f41-4415-9f4c-59f91dc99c4d",
        "colab": {
          "base_uri": "https://localhost:8080/"
        }
      },
      "outputs": [
        {
          "output_type": "execute_result",
          "data": {
            "text/plain": [
              "False"
            ]
          },
          "metadata": {},
          "execution_count": 18
        }
      ],
      "source": [
        "1 in lista"
      ]
    },
    {
      "cell_type": "markdown",
      "metadata": {
        "id": "PaJJPyUW6_Xh"
      },
      "source": [
        "Las listas se pueden sumar y multiplicar"
      ]
    },
    {
      "cell_type": "code",
      "execution_count": 19,
      "metadata": {
        "id": "adeErOP86_Xh"
      },
      "outputs": [],
      "source": [
        "a = [1, 2, 3, 4, 5]\n",
        "b = [6,7,8,9,10]"
      ]
    },
    {
      "cell_type": "code",
      "execution_count": 20,
      "metadata": {
        "id": "vDWU5KzR6_Xi",
        "outputId": "6ef9dbc4-b08f-4f52-a0be-870ce0c9dd84",
        "colab": {
          "base_uri": "https://localhost:8080/"
        }
      },
      "outputs": [
        {
          "output_type": "execute_result",
          "data": {
            "text/plain": [
              "[1, 2, 3, 4, 5, 6, 7, 8, 9, 10]"
            ]
          },
          "metadata": {},
          "execution_count": 20
        }
      ],
      "source": [
        "a + b"
      ]
    },
    {
      "cell_type": "code",
      "execution_count": 21,
      "metadata": {
        "id": "54I59VEH6_Xi",
        "outputId": "30ce2c16-a56d-42e1-e712-ecd1c16f682c",
        "colab": {
          "base_uri": "https://localhost:8080/"
        }
      },
      "outputs": [
        {
          "output_type": "execute_result",
          "data": {
            "text/plain": [
              "[6, 7, 8, 9, 10, 6, 7, 8, 9, 10]"
            ]
          },
          "metadata": {},
          "execution_count": 21
        }
      ],
      "source": [
        "2*b        # Observar el resultado"
      ]
    },
    {
      "cell_type": "markdown",
      "metadata": {
        "id": "JzDxJ7X56_Xi"
      },
      "source": [
        "La función **sum( )** devuelve la suma de los elementos de listas numéricas."
      ]
    },
    {
      "cell_type": "code",
      "execution_count": 22,
      "metadata": {
        "id": "812uNnGK6_Xi",
        "outputId": "052e8f84-3f61-4e30-87fd-7050913bec02",
        "colab": {
          "base_uri": "https://localhost:8080/"
        }
      },
      "outputs": [
        {
          "output_type": "execute_result",
          "data": {
            "text/plain": [
              "15"
            ]
          },
          "metadata": {},
          "execution_count": 22
        }
      ],
      "source": [
        "sum(a)"
      ]
    },
    {
      "cell_type": "markdown",
      "metadata": {
        "id": "Z4yOYaOz6_Xi"
      },
      "source": [
        "La función **len( )** devuelve el número de elementos de la lista."
      ]
    },
    {
      "cell_type": "code",
      "execution_count": 30,
      "metadata": {
        "id": "kZDLpw4d6_Xi",
        "outputId": "f4ec9060-6b91-4902-fcea-423ffaf760d6",
        "colab": {
          "base_uri": "https://localhost:8080/"
        }
      },
      "outputs": [
        {
          "output_type": "execute_result",
          "data": {
            "text/plain": [
              "5"
            ]
          },
          "metadata": {},
          "execution_count": 30
        }
      ],
      "source": [
        "len(a)"
      ]
    },
    {
      "cell_type": "markdown",
      "metadata": {
        "id": "IrqTYhC76_Xj"
      },
      "source": [
        "### Ejercicio:"
      ]
    },
    {
      "cell_type": "markdown",
      "metadata": {
        "id": "F-8UGqDa6_Xj"
      },
      "source": [
        "Calcular el promedio de:\n",
        "\n",
        "* a\n",
        "* b\n",
        "* 5a ¿Es igual a 5*(promedio de a)?\n",
        "* a + b ¿Es igual a la suma de los promedios?\n",
        "\n",
        "\n"
      ]
    },
    {
      "cell_type": "code",
      "source": [
        "#Para calcular el promedio de a, tenemos que sumar cada elemento de a y dividirlo entre el número total de elementos\n",
        "promedio_a= sum(a)/len(a)\n",
        "print(\"El promedio de a es:\",promedio_a)\n",
        "\n",
        "#Para calcular el promedio de b repetimos el mismo procedimietno anterior\n",
        "promedio_b=sum(b)/len(b)\n",
        "print(\"El promedio de b es:\",promedio_b)\n",
        "\n",
        "#5a ¿Es igual a 5*(promedio de a)?\n",
        "\"\"\"\n",
        "Respuesta: No, la multiplicación de 5*a lo que devuelve es\n",
        "una nueva lista que contiene los elementos de la lista original repetidos el número de veces indicado (en este caso 5)\n",
        "por lo que obtendriamos una lista de 25 elementos= [1, 2, 3, 4, 5, 1, 2, 3, 4, 5, 1, 2, 3, 4, 5, 1, 2, 3, 4, 5, 1, 2, 3, 4, 5]\n",
        "y 5*prom_a obtendiramos un número entero\n",
        "\"\"\"\n",
        "resultado=5*a\n",
        "print(\"El resultado de 5*a es:\",resultado)\n",
        "\n",
        "resultado_2=5*promedio_a\n",
        "print(\"El resultado de 5*promedio de a es:\",resultado_2)\n",
        "\n",
        "#a + b ¿Es igual a la suma de los promedios?\n",
        "\"\"\"\n",
        "No porque sumar dos listas (a + b) concatena las listas,\n",
        "mientras que sumar los promedios de las listas (sum(a) / len(a) + sum(b) / len(b))\n",
        "calcula la suma de los promedios de las listas\n",
        "\n",
        "\"\"\"\n",
        "#calculando a+b\n",
        "resultado_ab=a+b\n",
        "print(\"El resultado de a+b es:\",resultado_ab)\n",
        "\n",
        "#calculando la suma de los promedios\n",
        "resultado_promedios=promedio_a+promedio_b\n",
        "print(\"La suma de los promedios de a y b es:\",resultado_promedios)\n",
        "\n",
        "print(\"a + b ¿Es igual a la suma de los promedios?\",resultado_ab==resultado_promedios)\n"
      ],
      "metadata": {
        "id": "h_M1Budn_cq9",
        "outputId": "5eb59ae2-f1a2-4b4d-f1fe-e9fc3f4bcd0d",
        "colab": {
          "base_uri": "https://localhost:8080/"
        }
      },
      "execution_count": 52,
      "outputs": [
        {
          "output_type": "stream",
          "name": "stdout",
          "text": [
            "El promedio de a es: 3.0\n",
            "El promedio de b es: 8.0\n",
            "El resultado de 5*a es: [1, 2, 3, 4, 5, 1, 2, 3, 4, 5, 1, 2, 3, 4, 5, 1, 2, 3, 4, 5, 1, 2, 3, 4, 5]\n",
            "El resultado de 5*promedio de a es: 15.0\n",
            "El resultado de a+b es: [1, 2, 3, 4, 5, 6, 7, 8, 9, 10]\n",
            "La suma de los promedios de a y b es: 11.0\n",
            "a + b ¿Es igual a la suma de los promedios? False\n"
          ]
        }
      ]
    },
    {
      "cell_type": "markdown",
      "metadata": {
        "id": "v7bhXv1k6_Xj"
      },
      "source": [
        "También se puede acceder a los elementos de una lista por rangos."
      ]
    },
    {
      "cell_type": "markdown",
      "source": [
        "¿cómo? : En Python, puedes acceder a los elementos de una lista por rangos utilizando la sintaxis de slicing [inicio : fin : paso]\n",
        "\n",
        "*   Inicio es el índice del primer elemento que deseas incluir en el rango.Si se omite, se asume que es 0.\n",
        "*   Fin es el índice del primer elemento que no deseas incluir en el rango. Si se omite, se asume que es la longitud de la lista.\n",
        "* Paso es un número entero que representa la cantidad de pasos que se deben dar para seleccionar los elementos. Si se omite, se asume que es 1.\n"
      ],
      "metadata": {
        "id": "769QVa4JGN3t"
      }
    },
    {
      "cell_type": "code",
      "execution_count": 58,
      "metadata": {
        "id": "cYN-zFgo6_Xj",
        "outputId": "6f879646-a6c2-4940-fc40-942376549ca8",
        "colab": {
          "base_uri": "https://localhost:8080/"
        }
      },
      "outputs": [
        {
          "output_type": "execute_result",
          "data": {
            "text/plain": [
              "[2, 3, 4, 5]"
            ]
          },
          "metadata": {},
          "execution_count": 58
        }
      ],
      "source": [
        "#llamaramemos al segundo elemento de la lista (a= [1, 2, 3, 4, 5]),\n",
        "#el cual está en la posición uno de dicha lista e imrpimieremos hasta el último elemento\n",
        "a[1:]"
      ]
    },
    {
      "cell_type": "code",
      "execution_count": 54,
      "metadata": {
        "id": "ta9h3dHp6_Xj",
        "outputId": "a727b4e9-7983-446f-f242-86c0ef58db80",
        "colab": {
          "base_uri": "https://localhost:8080/"
        }
      },
      "outputs": [
        {
          "output_type": "execute_result",
          "data": {
            "text/plain": [
              "[1, 2]"
            ]
          },
          "metadata": {},
          "execution_count": 54
        }
      ],
      "source": [
        "#como se omite el inicio, entonces se entiende que será desde el primer elemento (posición 0)\n",
        "#pero ahora si se indico el fin que será hasta el elemento que se enucentre en la segunda posición de la lista (a= [1, 2, 3, 4, 5]),\n",
        "a[:2]"
      ]
    },
    {
      "cell_type": "code",
      "execution_count": 63,
      "metadata": {
        "id": "LH26LYMO6_Xj",
        "outputId": "2740802a-ecc7-4ae3-f183-e79b62b1707f",
        "colab": {
          "base_uri": "https://localhost:8080/"
        }
      },
      "outputs": [
        {
          "output_type": "execute_result",
          "data": {
            "text/plain": [
              "[4, 5]"
            ]
          },
          "metadata": {},
          "execution_count": 63
        }
      ],
      "source": [
        "#En este caso indicamos que iniciaremos en la posición 3 (se incluye) de la lista hasta la posicion 5 (la cual se omite) y omitimos el paso por lo que será de 1\n",
        "a[3:5]"
      ]
    },
    {
      "cell_type": "code",
      "execution_count": 66,
      "metadata": {
        "id": "RHeeooHF6_Xk",
        "outputId": "d0f9ac13-0973-4577-b2dc-62c9278a99e3",
        "colab": {
          "base_uri": "https://localhost:8080/"
        }
      },
      "outputs": [
        {
          "output_type": "execute_result",
          "data": {
            "text/plain": [
              "[1, 3, 5]"
            ]
          },
          "metadata": {},
          "execution_count": 66
        }
      ],
      "source": [
        "a[::2]"
      ]
    },
    {
      "cell_type": "markdown",
      "metadata": {
        "id": "szsN416_6_Xk"
      },
      "source": [
        "La función **append( )** agrega un elemento al final de la lista.\n",
        "No es posible agregar múltiples elementos a la vez con esta función\n"
      ]
    },
    {
      "cell_type": "markdown",
      "metadata": {
        "id": "04DN_8rz6_Xk"
      },
      "source": [
        "### Ejercicio:\n",
        "\n",
        "1 Generar una lista de 20 números aleatorios.\n",
        "\n",
        "2 Obtener el promedio de los 10 últimos números generados."
      ]
    },
    {
      "cell_type": "code",
      "execution_count": 81,
      "metadata": {
        "id": "ei2xg8MI6_Xk",
        "outputId": "eb31d728-4f62-4c74-efd9-5b61bcd88aa0",
        "colab": {
          "base_uri": "https://localhost:8080/"
        }
      },
      "outputs": [
        {
          "output_type": "stream",
          "name": "stdout",
          "text": [
            "Lista aleatoria generada: [2, 58, 59, 59, 93, 3, 94, 28, 14, 16, 14, 62, 30, 63, 57, 95, 68, 30, 2, 79]\n",
            "Sublista con los últimos 10 número generados: [14, 62, 30, 63, 57, 95, 68, 30, 2, 79]\n",
            "El promedio de los ultimos 10 digitos de la lista es: 50.0\n"
          ]
        }
      ],
      "source": [
        "#Generar una lista de 20 números aleatorios\n",
        "\"\"\"\n",
        "Para poder utilizar las funciones relacionadas con la generación de números aleatorios importaremos\n",
        "el módulo random, y utilizaremos la función random.randint(a, b):\n",
        "Esta función genera un número entero aleatorio en el rango especificado, incluyendo los límites a y b\n",
        "\n",
        "\n",
        "NOTA: la función random.random() la cual se utiliza para generar un número entero aleatorio entre 0 y 1\n",
        "\n",
        "\"\"\"\n",
        "import random\n",
        "lista_aleatoria= [random.randint(1,100) for _ in range(20)]\n",
        "print(\"Lista aleatoria generada:\",lista_aleatoria)\n",
        "\n",
        "#2 Obtener el promedio de los 10 últimos números generados.\n",
        "print(\"Sublista con los últimos 10 número generados:\",lista_aleatoria[10:])\n",
        "promedio_l2=sum(lista_aleatoria[10:])/len(lista_aleatoria[10:])\n",
        "print(\"El promedio de los ultimos 10 digitos de la lista es:\",promedio_l2)"
      ]
    },
    {
      "cell_type": "markdown",
      "metadata": {
        "id": "hQKxf8j26_Xl"
      },
      "source": [
        "## Diccionarios"
      ]
    },
    {
      "cell_type": "markdown",
      "metadata": {
        "id": "FgBxPFxL6_Xl"
      },
      "source": [
        "Un **diccionario** es una estructura de datos que almacena conjuntos de pares **clave-valor**."
      ]
    },
    {
      "cell_type": "markdown",
      "metadata": {
        "id": "494mlJ8E6_Xl"
      },
      "source": [
        "Para definir un diccionario se escribe un listado entre llaves, {}, mediante un sistema de pares clave-valor. Las entredas se separan por comas y la clave se separa del valor mediante dos puntos, :."
      ]
    },
    {
      "cell_type": "code",
      "execution_count": 82,
      "metadata": {
        "id": "jqPs6Myj6_Xl"
      },
      "outputs": [],
      "source": [
        "diccionario = {'Nombre': 'Isaac', 'Edad':'22', 'Cursos':['Ecuaciones','Simulación','Operaciones']}"
      ]
    },
    {
      "cell_type": "code",
      "execution_count": 83,
      "metadata": {
        "id": "o3J6J09u6_Xm",
        "outputId": "836e7a17-cdc1-4276-c0cd-85adf89d15bf",
        "colab": {
          "base_uri": "https://localhost:8080/",
          "height": 35
        }
      },
      "outputs": [
        {
          "output_type": "execute_result",
          "data": {
            "text/plain": [
              "'Isaac'"
            ],
            "application/vnd.google.colaboratory.intrinsic+json": {
              "type": "string"
            }
          },
          "metadata": {},
          "execution_count": 83
        }
      ],
      "source": [
        "diccionario['Nombre']"
      ]
    },
    {
      "cell_type": "code",
      "execution_count": 84,
      "metadata": {
        "id": "EDOpL2Mo6_Xm",
        "outputId": "5a095ba2-8f51-49cd-dad9-92bf1d0120f3",
        "colab": {
          "base_uri": "https://localhost:8080/",
          "height": 35
        }
      },
      "outputs": [
        {
          "output_type": "execute_result",
          "data": {
            "text/plain": [
              "'Simulación'"
            ],
            "application/vnd.google.colaboratory.intrinsic+json": {
              "type": "string"
            }
          },
          "metadata": {},
          "execution_count": 84
        }
      ],
      "source": [
        "diccionario['Cursos'][1]"
      ]
    },
    {
      "cell_type": "markdown",
      "metadata": {
        "id": "uNUNsN6L6_Xn"
      },
      "source": [
        "La función **dict( )** permite crear un diccionario:"
      ]
    },
    {
      "cell_type": "code",
      "execution_count": 85,
      "metadata": {
        "id": "NamhA4gq6_Xn"
      },
      "outputs": [],
      "source": [
        "d = dict(a=1, b=2, c=3)"
      ]
    },
    {
      "cell_type": "code",
      "execution_count": 86,
      "metadata": {
        "id": "pPJmJQff6_Xn",
        "outputId": "12d5e608-458f-4299-98b4-41a3df23d514",
        "colab": {
          "base_uri": "https://localhost:8080/"
        }
      },
      "outputs": [
        {
          "output_type": "stream",
          "name": "stdout",
          "text": [
            "{'a': 1, 'b': 2, 'c': 3}\n"
          ]
        }
      ],
      "source": [
        "print(d)"
      ]
    },
    {
      "cell_type": "code",
      "execution_count": 87,
      "metadata": {
        "id": "orNnGGeP6_Xo",
        "outputId": "8cbd7b15-51cc-49ad-8fad-1209a68920f8",
        "colab": {
          "base_uri": "https://localhost:8080/"
        }
      },
      "outputs": [
        {
          "output_type": "execute_result",
          "data": {
            "text/plain": [
              "dict"
            ]
          },
          "metadata": {},
          "execution_count": 87
        }
      ],
      "source": [
        "type(d)"
      ]
    },
    {
      "cell_type": "code",
      "execution_count": 88,
      "metadata": {
        "id": "ZSglv24O6_Xo",
        "outputId": "e0da8f5b-ce13-4351-8bfd-499de0d67295",
        "colab": {
          "base_uri": "https://localhost:8080/"
        }
      },
      "outputs": [
        {
          "output_type": "execute_result",
          "data": {
            "text/plain": [
              "3"
            ]
          },
          "metadata": {},
          "execution_count": 88
        }
      ],
      "source": [
        "len(d)"
      ]
    },
    {
      "cell_type": "markdown",
      "metadata": {
        "id": "vp9l3Y0h6_Xo"
      },
      "source": [
        "Con el operador in podemos comprobar si una determinada **clave** está en el diccionario: dará True si está y False si no está."
      ]
    },
    {
      "cell_type": "code",
      "execution_count": 92,
      "metadata": {
        "id": "aFoThuqA6_Xo",
        "outputId": "793560dc-26ba-435c-9312-c15940a58c53",
        "colab": {
          "base_uri": "https://localhost:8080/"
        }
      },
      "outputs": [
        {
          "output_type": "execute_result",
          "data": {
            "text/plain": [
              "True"
            ]
          },
          "metadata": {},
          "execution_count": 92
        }
      ],
      "source": [
        "'a' in d\n"
      ]
    },
    {
      "cell_type": "markdown",
      "metadata": {
        "id": "tXwu1fbt6_Xp"
      },
      "source": [
        "Las diccionarios son iterables: podemos recorrer sus elementos mediante un bucle:"
      ]
    },
    {
      "cell_type": "code",
      "execution_count": 93,
      "metadata": {
        "id": "Hf9zjEyK6_Xp",
        "outputId": "3dbe8b84-4757-4ea6-f15c-f47f98439db1",
        "colab": {
          "base_uri": "https://localhost:8080/"
        }
      },
      "outputs": [
        {
          "output_type": "stream",
          "name": "stdout",
          "text": [
            "Nombre : Isaac\n",
            "Edad : 22\n",
            "Cursos : ['Ecuaciones', 'Simulación', 'Operaciones']\n"
          ]
        }
      ],
      "source": [
        "for key in diccionario:\n",
        "    print(key, \":\", diccionario[key])"
      ]
    },
    {
      "cell_type": "markdown",
      "metadata": {
        "id": "1IuzTdCI6_Xp"
      },
      "source": [
        "**items()** devuelve las tuplas clave-valor del diccionario."
      ]
    },
    {
      "cell_type": "code",
      "execution_count": 94,
      "metadata": {
        "id": "JkjkPpzo6_Xp",
        "outputId": "8d476b38-2c12-40a8-a766-9f3581bcfb40",
        "colab": {
          "base_uri": "https://localhost:8080/"
        }
      },
      "outputs": [
        {
          "output_type": "execute_result",
          "data": {
            "text/plain": [
              "dict_items([('Nombre', 'Isaac'), ('Edad', '22'), ('Cursos', ['Ecuaciones', 'Simulación', 'Operaciones'])])"
            ]
          },
          "metadata": {},
          "execution_count": 94
        }
      ],
      "source": [
        "diccionario.items()"
      ]
    },
    {
      "cell_type": "markdown",
      "metadata": {
        "id": "X8SPxZCl6_Xp"
      },
      "source": [
        "**items()** devuelve una tupla, lo cual permite verificar si un par clave-valor está en el diccionario."
      ]
    },
    {
      "cell_type": "code",
      "execution_count": 95,
      "metadata": {
        "id": "ody-T71H6_Xp",
        "outputId": "f7c918f6-f505-40d6-cc3c-ad254f230c3a",
        "colab": {
          "base_uri": "https://localhost:8080/"
        }
      },
      "outputs": [
        {
          "output_type": "execute_result",
          "data": {
            "text/plain": [
              "True"
            ]
          },
          "metadata": {},
          "execution_count": 95
        }
      ],
      "source": [
        "('a',1) in d.items()"
      ]
    },
    {
      "cell_type": "markdown",
      "metadata": {
        "id": "GcbJ7A4U6_Xp"
      },
      "source": [
        "**values()** devuelve una lista de los valores del diccionario."
      ]
    },
    {
      "cell_type": "code",
      "execution_count": 96,
      "metadata": {
        "id": "VoKi9vQq6_Xp",
        "outputId": "c5f1924d-e968-4a13-a502-b9a603e872e1",
        "colab": {
          "base_uri": "https://localhost:8080/"
        }
      },
      "outputs": [
        {
          "output_type": "execute_result",
          "data": {
            "text/plain": [
              "dict_values(['Isaac', '22', ['Ecuaciones', 'Simulación', 'Operaciones']])"
            ]
          },
          "metadata": {},
          "execution_count": 96
        }
      ],
      "source": [
        "diccionario.values()"
      ]
    }
  ],
  "metadata": {
    "kernelspec": {
      "display_name": "Python 3",
      "language": "python",
      "name": "python3"
    },
    "language_info": {
      "codemirror_mode": {
        "name": "ipython",
        "version": 3
      },
      "file_extension": ".py",
      "mimetype": "text/x-python",
      "name": "python",
      "nbconvert_exporter": "python",
      "pygments_lexer": "ipython3",
      "version": "3.7.3"
    },
    "colab": {
      "provenance": []
    }
  },
  "nbformat": 4,
  "nbformat_minor": 0
}