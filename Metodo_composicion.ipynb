{
  "nbformat": 4,
  "nbformat_minor": 0,
  "metadata": {
    "colab": {
      "provenance": [],
      "authorship_tag": "ABX9TyOfowxpk9oqz+YFYGS2sumA",
      "include_colab_link": true
    },
    "kernelspec": {
      "name": "python3",
      "display_name": "Python 3"
    },
    "language_info": {
      "name": "python"
    }
  },
  "cells": [
    {
      "cell_type": "markdown",
      "metadata": {
        "id": "view-in-github",
        "colab_type": "text"
      },
      "source": [
        "<a href=\"https://colab.research.google.com/github/0DianaHernandez/Simulacion-I/blob/main/Metodo_composicion.ipynb\" target=\"_parent\"><img src=\"https://colab.research.google.com/assets/colab-badge.svg\" alt=\"Open In Colab\"/></a>"
      ]
    },
    {
      "cell_type": "markdown",
      "source": [
        "**Método de Composición**\n",
        "\n",
        "Permite generar variables aleatorias x cuando éstas provienen de una función de densidad $f(x)$ que puede expresarse como la combinación convexa de $m$ distribuciones de probabilidad $f(x)$. Entonces, la combinación convexa se puede expresar como:\n",
        "\n",
        "$$f(x)=\\sum_{i=1}^{m} f_i(x)I_A(x)$$\n",
        "\n",
        "Donde:\n",
        "$$\n",
        "I_A(x) =\n",
        "\\begin{cases}\n",
        "      1 & \\text{si } (x \\in A)\\\\\n",
        "      0 & \\text{si } (x \\notin A)\\\\\n",
        "   \\end{cases}\n",
        "$$\n",
        "*¡NOTA!* : Algunas de las distribuciones más conocidas que pueden expresarse como una combinaión convexa son: la triangular, la de Laplace y la trapezoidal.\n",
        "\n",
        "\n",
        "\n"
      ],
      "metadata": {
        "id": "rxxGYZi3h9kx"
      }
    },
    {
      "cell_type": "markdown",
      "source": [
        "*Procedimiento:*\n",
        "\n",
        "El procedimiento general de generación es el siguiente:\n",
        "\n",
        "1. Calcule la probabilidad de cada una de las distribuciones $f_i(x)$.\n",
        "2. Asegúrese que cada función $f_i(x)$ sea función de densidad.\n",
        "3. Obtenga, mediante el método de la transformada inversa, las expresiones para generar variables aleatorias de cada una de las distribuciones $f_i(x)$\n",
        "4. Genere un número pseudoaleatorio $r_i$ que permita definir el valor de $l_A(x)$.\n",
        "5. Seleccione la función generadora correspondiente a la función $f_i(x)$.\n",
        "6. Genere un segundo número pseudoaleatorio $r_i$ y sustitúyalo en la función generadora anterior para obtener $Y$.\n"
      ],
      "metadata": {
        "id": "pPa4gIDah6uO"
      }
    },
    {
      "cell_type": "code",
      "source": [
        "#iMPORTAMOS LIBRERIAS\n",
        "import numpy as np\n",
        "import matplotlib.pyplot as plt\n",
        "import scipy.stats as stats"
      ],
      "metadata": {
        "id": "PDFTm9H4kB_R"
      },
      "execution_count": null,
      "outputs": []
    }
  ]
}