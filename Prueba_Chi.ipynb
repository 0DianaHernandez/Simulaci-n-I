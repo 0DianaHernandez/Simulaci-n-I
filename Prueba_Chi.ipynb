{
  "nbformat": 4,
  "nbformat_minor": 0,
  "metadata": {
    "colab": {
      "provenance": [],
      "authorship_tag": "ABX9TyNV8Ody+/fUIQ/VpKr44Vsr",
      "include_colab_link": true
    },
    "kernelspec": {
      "name": "python3",
      "display_name": "Python 3"
    },
    "language_info": {
      "name": "python"
    }
  },
  "cells": [
    {
      "cell_type": "markdown",
      "metadata": {
        "id": "view-in-github",
        "colab_type": "text"
      },
      "source": [
        "<a href=\"https://colab.research.google.com/github/0DianaHernandez/Simulacion-I/blob/main/Prueba_Chi.ipynb\" target=\"_parent\"><img src=\"https://colab.research.google.com/assets/colab-badge.svg\" alt=\"Open In Colab\"/></a>"
      ]
    },
    {
      "cell_type": "markdown",
      "source": [
        "**Prueba chi cuadrada**\n",
        "\n",
        "Una de las propiedades más importantes que debe cumplir un conjunto de números x_i. es la uniformidad.\n",
        "Para comprobar su acatamiento se han desarrollado pruebas estadísticas tales como las pruebas Chi-cuadrada y de Kolmogorov-Smirnov. En cualquiera de ambos casos, para probar la uniformidad de los números de un conjunto x es necesario formular las siguientes hipótesis:\n",
        "1. Hipótesis nula H_O: Los números siguen una distirubcion unifrome de 0 a 1, es decir:\n",
        "\n",
        "        H_0: x_i ~ U(0,1)\n",
        "\n",
        "2. Hipótesis alternativa H_1: Los números no siguen una distribución uniforme.\n",
        "\n",
        "Entonces, la prueba Chi-cuadrada busca determinar si los números del conjuntor se distribuyen de manera uniforme en el intervalo (0,1).\n",
        "\n",
        " *Pasos:*\n",
        "\n",
        " 1. Primero definimos nuestra hipótesis nula H_0 y nuestra hipótesis alternativa H_1.\n",
        "\n",
        " 2. Definimos nuestro nivel de significancia (α): Será igual a 1-nivel de aceptación.\n",
        "\n",
        " 3. Calculamos nuestras categorias que mínimo deberán ser 5 para posteriormente calcular FO y FE\n",
        "\n",
        " 4. Formulamos la regla de decisión: Determinar un número que separe la región donde no se rechaza la hipótesis nula H_0 de la región de rechazo. Este número se denomina valor crítico.\n",
        "\n",
        "     * Así, para saber el valor critico debemos conocer los grados de libertad (dl).\n",
        "\n",
        "     * Posteriormente utilizaremos las tablas de valores críticos de ji cuadrada y buscaremos el valor para nuestro nivel de significancia y este será nuestro el valor crítico.\n",
        "\n",
        " La regla se decisión entonces se definirá de la siguiente manera:\n",
        "     * Rechazar H_0 si el valor calculado de ji cuadrada (χ2) es mayor que el valor crítico.\n",
        "\n",
        "     * No se rechaza si χ2 es menor o igual que el valor crítico.\n",
        "\n",
        " 5. Calcular el valor de ji cuadrada\n",
        "\n",
        "            χ2=∑(i=1,k)[(f_o-f_e )^2/f_0 ]\n",
        "\n",
        "\n"
      ],
      "metadata": {
        "id": "jr2Ei7pEUH-Q"
      }
    },
    {
      "cell_type": "code",
      "source": [
        "'''Ejercicio 1: Realice una prueba de bondad de ajuste con un nivel de aceptación del 95 %'''\n",
        "\n",
        "#Importamos las"
      ],
      "metadata": {
        "id": "n9RHS0RhXfaU"
      },
      "execution_count": null,
      "outputs": []
    }
  ]
}