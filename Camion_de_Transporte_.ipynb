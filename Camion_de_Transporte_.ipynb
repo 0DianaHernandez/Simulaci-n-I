{
  "nbformat": 4,
  "nbformat_minor": 0,
  "metadata": {
    "colab": {
      "provenance": [],
      "authorship_tag": "ABX9TyPHfOITs8s58uA2Wlx+SMpL",
      "include_colab_link": true
    },
    "kernelspec": {
      "name": "python3",
      "display_name": "Python 3"
    },
    "language_info": {
      "name": "python"
    }
  },
  "cells": [
    {
      "cell_type": "markdown",
      "metadata": {
        "id": "view-in-github",
        "colab_type": "text"
      },
      "source": [
        "<a href=\"https://colab.research.google.com/github/0DianaHernandez/Simulacion-I/blob/main/Camion_de_Transporte_.ipynb\" target=\"_parent\"><img src=\"https://colab.research.google.com/assets/colab-badge.svg\" alt=\"Open In Colab\"/></a>"
      ]
    },
    {
      "cell_type": "code",
      "execution_count": null,
      "metadata": {
        "id": "8sfFKnRBeDUX"
      },
      "outputs": [],
      "source": [
        "'''\n",
        "La empresa TIBASA (fabricante de tinas de baño) tiene asignado un camión especial\n",
        "para el transporte de tinas terminadas. Dicho camión transporta diariamente 5 tinas.\n",
        "El peso de cada tina sigue la siguiente distribución de probabilidad:\n",
        "\n",
        "\n",
        "       ^\n",
        "       |\n",
        "  # 1/20-|--/|\\\n",
        "       |   / | \\\n",
        "       |  /  |  \\\n",
        "       | /   |   \\\n",
        "       |/_ __| __ \\ __ __ >\n",
        "      0 190 210 230\n",
        "\n",
        "Si la capacidad del camión es de una tonelada, ¿cuál es la probabilidad de que el peso\n",
        "de las tinas exceda la capacidad del camión?\n",
        "(a) Resolver analíticamente.\n",
        "(b) Resolver por simulación."
      ]
    }
  ]
}