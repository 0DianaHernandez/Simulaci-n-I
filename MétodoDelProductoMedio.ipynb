{
  "nbformat": 4,
  "nbformat_minor": 0,
  "metadata": {
    "colab": {
      "provenance": [],
      "toc_visible": true,
      "authorship_tag": "ABX9TyO+ezcgc1XUnK1RnTF9b1vx",
      "include_colab_link": true
    },
    "kernelspec": {
      "name": "python3",
      "display_name": "Python 3"
    },
    "language_info": {
      "name": "python"
    }
  },
  "cells": [
    {
      "cell_type": "markdown",
      "metadata": {
        "id": "view-in-github",
        "colab_type": "text"
      },
      "source": [
        "<a href=\"https://colab.research.google.com/github/0DianaHernandez/Simulacion-I/blob/main/M%C3%A9todoDelProductoMedio.ipynb\" target=\"_parent\"><img src=\"https://colab.research.google.com/assets/colab-badge.svg\" alt=\"Open In Colab\"/></a>"
      ]
    },
    {
      "cell_type": "code",
      "execution_count": null,
      "metadata": {
        "id": "IpQzMZHkJ23b"
      },
      "outputs": [],
      "source": []
    },
    {
      "cell_type": "markdown",
      "source": [
        "Método del producto medio"
      ],
      "metadata": {
        "id": "VC-pwcyoJ3U_"
      }
    },
    {
      "cell_type": "code",
      "source": [
        "#Se seleccionan dos semillas : x_n y x_n-1 cada una de p digitos\n",
        "#Multiplicamos x_n y x_n-1\n",
        "#del producto tomamos p digitos centrales y les llamamos x_n+1\n",
        "\n",
        "\n",
        "#primero definimos un condicional que determine si los números ingresados son de p digitos\n",
        "\n",
        "longitud = input(\"Ingrese el número de dígitos a trabajar: \")\n",
        "\n",
        "x_n1 = input(\"Ingrese el primer número: \")\n",
        "long_x_n1 = str(x_n1)\n",
        "\n",
        "if len(long_x_n1) != int(longitud):\n",
        "    print(\"Recuerde que el número de dígitos debe ser\", longitud)\n",
        "else:\n",
        "    xn = input(\"Ingrese el segundo número: \")\n",
        "    long_x_n = str(xn)\n",
        "\n",
        "    if len(long_x_n) != int(longitud):\n",
        "        print(\"Recuerde que el número de dígitos debe ser\", longitud)\n",
        "#Definimos el codigo para los pasos dados en el algoritmo inicial\n",
        "\n",
        "multiplicacion = int (x_n1) * int (xn)\n",
        "print(\"El producto de\",x_n1,\"*\",xn,\"es:\",multiplicacion)\n",
        "mult=str(multiplicacion)\n",
        "inicio = (len(mult) - int(longitud)) // 2\n",
        "digitos_centrales=mult[inicio:inicio+int(longitud)]\n",
        "print(\"Los digitos centrales son\",digitos_centrales)\n",
        "\n",
        "xn1=int(digitos_centrales)\n",
        "\n",
        "\n",
        "\n"
      ],
      "metadata": {
        "id": "Q-ywKkItKSId"
      },
      "execution_count": null,
      "outputs": []
    },
    {
      "cell_type": "code",
      "source": [
        "longitud = input(\"Ingrese el número de dígitos a trabajar: \")\n",
        "\n",
        "x_n1 = input(\"Ingrese el primer número: \")\n",
        "long_x_n1 = str(x_n1)\n",
        "\n",
        "if len(long_x_n1) != int(longitud):\n",
        "    print(\"Recuerde que el número de dígitos debe ser\", longitud)\n",
        "else:\n",
        "    xn = input(\"Ingrese el segundo número: \")\n",
        "    long_x_n = str(xn)\n",
        "\n",
        "    if len(long_x_n) != int(longitud):\n",
        "        print(\"Recuerde que el número de dígitos debe ser\", longitud)\n",
        "\n",
        "for i in range(5):\n",
        "  print(\"Iteracion \",i)\n",
        "  multiplicacion = int (x_n1) * int (xn)\n",
        "  print(\"El producto de\",x_n1,\"*\",xn,\"es:\",multiplicacion)\n",
        "  mult=str(multiplicacion)\n",
        "  inicio = (len(mult) - int(longitud)) // 2\n",
        "  digitos_centrales=mult[inicio:inicio+int(longitud)]\n",
        "  print(\"Los digitos centrales son\",digitos_centrales)\n",
        "  xn1=int(digitos_centrales)\n",
        "  x_n1=xn\n",
        "  xn=xn1\n"
      ],
      "metadata": {
        "id": "C1ypemZSWnJe"
      },
      "execution_count": null,
      "outputs": []
    },
    {
      "cell_type": "code",
      "source": [
        "from tabulate import tabulate\n",
        "longitud = input(\"Ingrese el número de dígitos a trabajar: \")\n",
        "\n",
        "x_n1 = input(\"Ingrese el primer número: \")\n",
        "long_x_n1 = str(x_n1)\n",
        "\n",
        "if len(long_x_n1) != int(longitud):\n",
        "    print(\"Recuerde que el número de dígitos debe ser\", longitud)\n",
        "else:\n",
        "    xn = input(\"Ingrese el segundo número: \")\n",
        "    long_x_n = str(xn)\n",
        "\n",
        "    if len(long_x_n) != int(longitud):\n",
        "        print(\"Recuerde que el número de dígitos debe ser\", longitud)\n",
        "# Inicializar una lista para almacenar los resultados\n",
        "resultados = []\n",
        "\n",
        "for i in range(5):\n",
        "    # Cálculo del producto\n",
        "    multiplicacion = int(x_n1) * int(xn)\n",
        "\n",
        "    # Cálculo de los dígitos centrales\n",
        "    mult_str = str(multiplicacion)\n",
        "    inicio = (len(mult_str) - int(longitud)) // 2\n",
        "    digitos_centrales = mult_str[inicio:inicio + int(longitud)]\n",
        "\n",
        "    # Agregar los resultados a la lista de resultados\n",
        "    resultados.append((i, x_n1, xn, multiplicacion, digitos_centrales))\n",
        "\n",
        "    # Actualizar los valores para la próxima iteración\n",
        "    xn1 = int(digitos_centrales)\n",
        "    x_n1 = xn\n",
        "    xn = xn1\n",
        "\n",
        "# Encabezados de la tabla\n",
        "headers = [\"Iteración\", \"x_n1\", \"xn\", \"Multiplicación\", \"Digitos Centrales\"]\n",
        "\n",
        "# Imprimir la tabla usando la función tabulate\n",
        "tabla = tabulate(resultados, headers=headers, tablefmt=\"grid\")\n",
        "\n",
        "print(tabla)\n"
      ],
      "metadata": {
        "colab": {
          "base_uri": "https://localhost:8080/"
        },
        "id": "uFLhSuRkYRPE",
        "outputId": "2c235c98-80f0-4cb6-fe9e-b2cebc8697ef"
      },
      "execution_count": 64,
      "outputs": [
        {
          "output_type": "stream",
          "name": "stdout",
          "text": [
            "Ingrese el número de dígitos a trabajar: 3\n",
            "Ingrese el primer número: 123\n",
            "Ingrese el segundo número: 456\n",
            "+-------------+--------+------+------------------+---------------------+\n",
            "|   Iteración |   x_n1 |   xn |   Multiplicación |   Digitos Centrales |\n",
            "+=============+========+======+==================+=====================+\n",
            "|           0 |    123 |  456 |            56088 |                 608 |\n",
            "+-------------+--------+------+------------------+---------------------+\n",
            "|           1 |    456 |  608 |           277248 |                 772 |\n",
            "+-------------+--------+------+------------------+---------------------+\n",
            "|           2 |    608 |  772 |           469376 |                 693 |\n",
            "+-------------+--------+------+------------------+---------------------+\n",
            "|           3 |    772 |  693 |           534996 |                 349 |\n",
            "+-------------+--------+------+------------------+---------------------+\n",
            "|           4 |    693 |  349 |           241857 |                 418 |\n",
            "+-------------+--------+------+------------------+---------------------+\n"
          ]
        }
      ]
    }
  ]
}