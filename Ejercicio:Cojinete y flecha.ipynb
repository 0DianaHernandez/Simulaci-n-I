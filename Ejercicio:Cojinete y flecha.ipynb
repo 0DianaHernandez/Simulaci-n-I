{
  "cells": [
    {
      "cell_type": "markdown",
      "id": "c21e5530",
      "metadata": {
        "id": "c21e5530"
      },
      "source": [
        "# Ejemplo: Flecha y cojinete"
      ]
    },
    {
      "cell_type": "markdown",
      "id": "61f9bd36",
      "metadata": {
        "id": "61f9bd36"
      },
      "source": [
        "Una flecha será embonada en un cojinete como se muestra a continuación\n",
        "\n",
        "<img src=\"https://github.com/Medetl/Simulacion/blob/main/Unidad%20II/cojinete.png?raw=1\">"
      ]
    },
    {
      "cell_type": "markdown",
      "id": "5f658ca1",
      "metadata": {
        "id": "5f658ca1"
      },
      "source": [
        "Si $x_1$ sigue una distribución normal con media $1.5$ y varianza $0.0016$, y $x_2$ esta misma distribución con media $1.48$ y varianza $0.0009$, determine:\n",
        "\n",
        "a) La probabilidad de que haya interferencia.\n",
        "\n",
        "b) El número de veces que es necesario simular el experimento, si se quiere que la probabilidad de interferencia estimada difiera de su valor verdadero en menos de $0.01$, con un nivel de seguridad del $95\\%.$"
      ]
    },
    {
      "cell_type": "markdown",
      "id": "fac00420",
      "metadata": {
        "id": "fac00420"
      },
      "source": [
        "Vamos a resolver este problema, procurando seguir la metodología vista en el curso."
      ]
    },
    {
      "cell_type": "markdown",
      "id": "ccd32164",
      "metadata": {
        "id": "ccd32164"
      },
      "source": [
        "### 1. Identifique las variables\n",
        "\n",
        "Tenemos dos: $x_1$ y $x_2$.\n",
        "\n",
        "\n",
        "*  $x_1$:  Representa el diámetro del \"cojinete\"\n",
        "*  $x_2$: Representa el diámetro de la \"flecha\"\n",
        "\n",
        "\n",
        "\n"
      ]
    },
    {
      "cell_type": "markdown",
      "id": "ae8735e5",
      "metadata": {
        "id": "ae8735e5"
      },
      "source": [
        "### 2 y 3. Determine la distribución de probabilidad y modele las variables aleatorias\n",
        "\n",
        "En el planteamiento ya se especifica que $x_1 \\sim N(1.5, 0.04)$ y que $x_1 \\sim N(1.48, 0.03)$."
      ]
    },
    {
      "cell_type": "markdown",
      "id": "b1b57a13",
      "metadata": {
        "id": "b1b57a13"
      },
      "source": [
        "### 4. Defina el modelo del sistema y los objetivos de la simulación\n",
        "\n",
        "La diferencia $x_1 - x_2$ modela adecuadamente el sistema.\n",
        "\n",
        "Si $x_2 - x_1 > 0$ el diametro de la flecha es más grande que el espacio en el cojinte y, por tanto, hay interferencia. De lo contrario, las piezas embonan sin problema.\n",
        "\n",
        "Objetivo: determinar la frecuencia con que esto ocurre, lo cual nos da una esrimación de la probabilidad de interefrencia.\n",
        "\n",
        "Para determinar la probabilidad de interferencia, necesitamos encontrar la distribución de la diferencia, es decir, $Y=x_2-x_1$\n",
        "\n"
      ]
    },
    {
      "cell_type": "markdown",
      "source": [
        "***Propiedad de la diferencia de dos distribuciones Normales***\n",
        "\n",
        "\n",
        " Si $x_1 \\sim N(\\mu_1, \\sigma_1^2)$ y  $x_2 \\sim N(\\mu_1, \\sigma_1^2)$, entonces $Y=x_1 - x_2$ sigue una distribución normal con:\n",
        "\n",
        "\n",
        "*   Media $ \\mu_Y =\\mu_1-\\mu_2$\n",
        "*   Varianza $\\sigma_Y^2=\\sigma_1^2+\\sigma_2^2$\n",
        "\n",
        "\n",
        "Es decir, $Y\\sim N(\\mu_1-\\mu_2$,$\\sigma_1^2+\\sigma_2^2$).Por lo tanto,la probabilidad de interferencia es $P(Y≥0)$\n",
        "\n",
        "Una forma de implementarlo es mediante el siguiente código\n",
        "\n",
        "\n"
      ],
      "metadata": {
        "id": "xo10FlhEdUcj"
      },
      "id": "xo10FlhEdUcj"
    },
    {
      "cell_type": "code",
      "execution_count": 122,
      "id": "191b1e9b",
      "metadata": {
        "id": "191b1e9b"
      },
      "outputs": [],
      "source": [
        "import numpy as np\n",
        "import random\n",
        "import matplotlib.pyplot as plt\n",
        "from scipy.stats import norm\n",
        "\n"
      ]
    },
    {
      "cell_type": "code",
      "source": [
        "#Valores de cada variable\n",
        "    #X_1\n",
        "miu_1=1.5\n",
        "varianza_1=0.0016\n",
        "desv_estandar_1=np.sqrt(varianza_1)\n",
        "\n",
        "    #X_2\n",
        "miu_2=1.48\n",
        "varianza_2=0.0009\n",
        "\n",
        "\n",
        "#Definimos los parámetros de Y∼N()\n",
        "miu_y=miu_1-miu_2     #Media de Y\n",
        "varianza_y= varianza_1+varianza_2    #Varianza de Y\n",
        "desv_estandar_y= np.sqrt(varianza_y)\n"
      ],
      "metadata": {
        "id": "_7jY6g0Nl_8t"
      },
      "id": "_7jY6g0Nl_8t",
      "execution_count": 123,
      "outputs": []
    },
    {
      "cell_type": "code",
      "execution_count": 126,
      "id": "e64c27d2",
      "metadata": {
        "id": "e64c27d2"
      },
      "outputs": [],
      "source": [
        "def interferencia():                           #Esta función devuelve el valor 1 si hay interferencia o 0 si no la hay.\n",
        "    interf=0\n",
        "    Y = random.gauss(miu_y,desv_estandar_y)    #La funcion gauss genera un número que sigue una distribucion normal con\n",
        "    if  0.0< Y:                                          # la media y la desvicion estandar especificados.\n",
        "        interf += 1\n",
        "    return interf"
      ]
    },
    {
      "cell_type": "code",
      "execution_count": 129,
      "id": "ebe51777",
      "metadata": {
        "id": "ebe51777",
        "colab": {
          "base_uri": "https://localhost:8080/"
        },
        "outputId": "c8805f88-8776-46e4-af9f-2e46d3c706ab"
      },
      "outputs": [
        {
          "output_type": "execute_result",
          "data": {
            "text/plain": [
              "1"
            ]
          },
          "metadata": {},
          "execution_count": 129
        }
      ],
      "source": [
        "interferencia()"
      ]
    },
    {
      "cell_type": "markdown",
      "id": "d6186dac",
      "metadata": {
        "id": "d6186dac"
      },
      "source": [
        "### 5. Diseñe el experimento\n",
        "\n",
        "Para estimar la probabilidad de interferencia, ejecutamos $n$ veces la función anterior y calculamos de manera acumulativa\n",
        "la probabilidad de interferencia."
      ]
    },
    {
      "cell_type": "code",
      "execution_count": 130,
      "id": "f9a766a5",
      "metadata": {
        "id": "f9a766a5"
      },
      "outputs": [],
      "source": [
        "def prob_inter(n):\n",
        "    prob = []                       # Esta funcion devuelve esta lista \"prob\", con los valores de la probabilidad\n",
        "    inter = 0                       # estimada al contar las veces que hay interferencia y dividir entre las veces que\n",
        "    for i in range(n):              # se ha reptido la observacion mientras aumenta el numero de iteraciones.\n",
        "        inter += interferencia()\n",
        "        prob.append(inter/(i+1))\n",
        "    return prob"
      ]
    },
    {
      "cell_type": "code",
      "execution_count": 136,
      "id": "8099a245",
      "metadata": {
        "id": "8099a245"
      },
      "outputs": [],
      "source": [
        "X = prob_inter(1000)                # Asignamos valores a n y realizamos el experimento"
      ]
    },
    {
      "cell_type": "code",
      "execution_count": 80,
      "id": "c5a5a3c2",
      "metadata": {
        "id": "c5a5a3c2",
        "colab": {
          "base_uri": "https://localhost:8080/",
          "height": 447
        },
        "outputId": "f9e1d894-eacf-47e0-eb9c-3d5c54f52c99"
      },
      "outputs": [
        {
          "output_type": "execute_result",
          "data": {
            "text/plain": [
              "[<matplotlib.lines.Line2D at 0x797335b44190>]"
            ]
          },
          "metadata": {},
          "execution_count": 80
        },
        {
          "output_type": "display_data",
          "data": {
            "text/plain": [
              "<Figure size 640x480 with 1 Axes>"
            ],
            "image/png": "[encoded data removed]"
          },
          "metadata": {}
        }
      ],
      "source": [
        "plt.plot(X)                         # La gráfica muestra que la convergencia está garantizada con 500 iteraciones\n",
        "                                    # Sin embargo, diferentes ejecuciones darán resultados distintos"
      ]
    },
    {
      "cell_type": "code",
      "execution_count": 82,
      "id": "4ac4c689",
      "metadata": {
        "id": "4ac4c689",
        "colab": {
          "base_uri": "https://localhost:8080/"
        },
        "outputId": "a1274228-e1fe-4af9-d72d-f52135bacfbe"
      },
      "outputs": [
        {
          "output_type": "stream",
          "name": "stdout",
          "text": [
            "0.655511115296526 0.028095277342988317\n"
          ]
        }
      ],
      "source": [
        "print(np.mean(X), np.std(X)) # Imprimimos la media (mean) y la desviación estandar (std) de la muestra X"
      ]
    },
    {
      "cell_type": "markdown",
      "id": "34727279",
      "metadata": {
        "id": "34727279"
      },
      "source": [
        "### 6. Repita el experimento $n$ veces\n",
        "\n",
        "Una forma de hacerlo es mediante el siguiente codigo."
      ]
    },
    {
      "cell_type": "code",
      "execution_count": 165,
      "id": "908f1884",
      "metadata": {
        "id": "908f1884"
      },
      "outputs": [],
      "source": [
        "def modelo(n):\n",
        "    lista=[]  # En esta lista almacenaremos los resultados de las \"n\" repeticiones\n",
        "    for i in range(n):\n",
        "        s = prob_inter(500)\n",
        "        lista.append(np.mean(s)) #Se calcula la media de los resultados de cada\n",
        "    return lista"
      ]
    },
    {
      "cell_type": "code",
      "execution_count": 168,
      "id": "34868564",
      "metadata": {
        "id": "34868564"
      },
      "outputs": [],
      "source": [
        "Y=modelo(383)"
      ]
    },
    {
      "cell_type": "code",
      "execution_count": 169,
      "id": "8a95845e",
      "metadata": {
        "id": "8a95845e",
        "colab": {
          "base_uri": "https://localhost:8080/",
          "height": 430
        },
        "outputId": "5faf08ad-116d-487f-fdb8-2aedf1d3116d"
      },
      "outputs": [
        {
          "output_type": "display_data",
          "data": {
            "text/plain": [
              "<Figure size 640x480 with 1 Axes>"
            ],
            "image/png": "[encoded data removed]"
          },
          "metadata": {}
        }
      ],
      "source": [
        "plt.hist(Y)\n",
        "plt.show()"
      ]
    },
    {
      "cell_type": "code",
      "execution_count": 114,
      "id": "e892a16c",
      "metadata": {
        "id": "e892a16c",
        "colab": {
          "base_uri": "https://localhost:8080/"
        },
        "outputId": "d8d69f15-5ae7-44c9-a3e0-028d0f6829bb"
      },
      "outputs": [
        {
          "output_type": "stream",
          "name": "stdout",
          "text": [
            "0.655342302119695 0.030173684261673155\n"
          ]
        }
      ],
      "source": [
        "print(np.mean(Y), np.std(Y)) # Imprimimos la media (mean) y la desviación estandar (std) de la muestra Y"
      ]
    },
    {
      "cell_type": "markdown",
      "id": "e5dc2362",
      "metadata": {
        "id": "e5dc2362"
      },
      "source": [
        "### Paso 7. Hallamos el intervalo de confianza.\n",
        "\n",
        "Un intervalo de confianza para una media poblacional con una desviación típica poblacional conocida se basa en la conclusión del teorema del límite central de que la distribución muestral de las medias muestrales sigue una distribución aproximadamente normal.\n",
        "\n",
        "\n",
        "$$\\bar{x}-z_{\\alpha/2} \\cdot \\frac{s}{\\sqrt{n}} < \\mu < \\bar{x}+z_{\\alpha/2}\\cdot \\frac{s}{\\sqrt{n}}$$\n",
        "\n",
        "El intervalo de confianza se rige por dos cosas, el nivel de confianza elegido, $z_{\\alpha/2}$, y la desviación típica de la distribución muestral,$s$."
      ]
    },
    {
      "cell_type": "code",
      "execution_count": 138,
      "id": "23d0b48e",
      "metadata": {
        "id": "23d0b48e",
        "colab": {
          "base_uri": "https://localhost:8080/"
        },
        "outputId": "83d26e4d-e64c-46fa-901c-7acd286b8285"
      },
      "outputs": [
        {
          "output_type": "execute_result",
          "data": {
            "text/plain": [
              "0.655342302119695"
            ]
          },
          "metadata": {},
          "execution_count": 138
        }
      ],
      "source": [
        "np.mean(Y) #Calculamos la media de Y"
      ]
    },
    {
      "cell_type": "code",
      "execution_count": 139,
      "id": "b29c74e6",
      "metadata": {
        "id": "b29c74e6",
        "colab": {
          "base_uri": "https://localhost:8080/"
        },
        "outputId": "3cd39613-f514-4c84-dabd-d14274a83851"
      },
      "outputs": [
        {
          "output_type": "execute_result",
          "data": {
            "text/plain": [
              "(0.6469785835518091, 0.6637060206875809)"
            ]
          },
          "metadata": {},
          "execution_count": 139
        }
      ],
      "source": [
        "np.mean(Y) - 1.96*np.std(Y)/np.sqrt(50), np.mean(Y) + 1.96*np.std(Y)/np.sqrt(50) #Calculamos el intervalo de confianza con un nivel de confianza de 95%"
      ]
    },
    {
      "cell_type": "markdown",
      "id": "112c0954",
      "metadata": {
        "id": "112c0954"
      },
      "source": [
        "### Para determinar el número de simulaciones\n",
        "\n",
        " El número de simulaciones es importante para garantizar que las estimaciones sean confiables y precisas."
      ]
    },
    {
      "cell_type": "markdown",
      "id": "0a1a63e7",
      "metadata": {
        "id": "0a1a63e7"
      },
      "source": [
        "$$ N > \\Bigg( \\frac{2 \\sigma z_{\\alpha/2}}{\\epsilon} \\Bigg) ^2 $$\n",
        "\n",
        "Donde\n",
        "\n",
        "\n",
        "*   $N$ es el Número mínimo de simulaciones\n",
        "*   $\\sigma$ es la desviación estandar\n",
        "*   $z_{\\alpha/2}$ Es el valor crítico correspondiente a nuestro nivel de confianza\n",
        "*   ${\\epsilon}$ Es el margen de error\n",
        "\n"
      ]
    },
    {
      "cell_type": "code",
      "execution_count": 142,
      "id": "1478d745",
      "metadata": {
        "id": "1478d745"
      },
      "outputs": [],
      "source": [
        "N = ((2*np.std(X)*1.96)/0.01)**2"
      ]
    },
    {
      "cell_type": "code",
      "execution_count": 143,
      "id": "fa6ae0ce",
      "metadata": {
        "id": "fa6ae0ce",
        "colab": {
          "base_uri": "https://localhost:8080/"
        },
        "outputId": "f2ad2ecd-31a3-4b4c-eef0-60382767b855"
      },
      "outputs": [
        {
          "output_type": "stream",
          "name": "stdout",
          "text": [
            "383.908954452062\n"
          ]
        }
      ],
      "source": [
        "print(N)"
      ]
    },
    {
      "cell_type": "markdown",
      "id": "a6d1c695",
      "metadata": {
        "id": "a6d1c695"
      },
      "source": [
        "### Podemos comparar con la solución analítica del problema.\n",
        "\n",
        "Para ello usamos la teoría sobre la suma de variables con distribución normal.\n"
      ]
    },
    {
      "cell_type": "code",
      "execution_count": 144,
      "id": "7284bee0",
      "metadata": {
        "id": "7284bee0",
        "colab": {
          "base_uri": "https://localhost:8080/"
        },
        "outputId": "8c61a5ed-f830-4014-faad-a9c17ac6cb75"
      },
      "outputs": [
        {
          "output_type": "execute_result",
          "data": {
            "text/plain": [
              "0.3445782583896758"
            ]
          },
          "metadata": {},
          "execution_count": 144
        }
      ],
      "source": [
        "norm.cdf(-0.04, -0.02, 0.05)"
      ]
    },
    {
      "cell_type": "code",
      "execution_count": 145,
      "id": "a1a842a2",
      "metadata": {
        "id": "a1a842a2",
        "colab": {
          "base_uri": "https://localhost:8080/"
        },
        "outputId": "d205a1c5-4db0-4f14-f351-d9bde6f48381"
      },
      "outputs": [
        {
          "output_type": "execute_result",
          "data": {
            "text/plain": [
              "-0.3107640437300192"
            ]
          },
          "metadata": {},
          "execution_count": 145
        }
      ],
      "source": [
        "norm.cdf(-0.04, -0.02, 0.05)-np.mean(Y)"
      ]
    }
  ],
  "metadata": {
    "kernelspec": {
      "display_name": "Python 3 (ipykernel)",
      "language": "python",
      "name": "python3"
    },
    "language_info": {
      "codemirror_mode": {
        "name": "ipython",
        "version": 3
      },
      "file_extension": ".py",
      "mimetype": "text/x-python",
      "name": "python",
      "nbconvert_exporter": "python",
      "pygments_lexer": "ipython3",
      "version": "3.7.3"
    },
    "colab": {
      "provenance": []
    }
  },
  "nbformat": 4,
  "nbformat_minor": 5
}